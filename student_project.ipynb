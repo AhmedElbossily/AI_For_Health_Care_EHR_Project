{
  {
   "cell_type": "markdown",
   "metadata": {},
   "source": [
    "# 3. Data Preparation"
   ]
  },
  {
   "cell_type": "code",
   "execution_count": 73,
   "metadata": {},
   "outputs": [
    {
     "name": "stdout",
     "output_type": "stream",
     "text": [
      "The autoreload extension is already loaded. To reload it, use:\n",
      "  %reload_ext autoreload\n"
     ]
    }
   ],
   "source": [
    "# from __future__ import absolute_import, division, print_function, unicode_literals\n",
    "import os\n",
    "import numpy as np\n",
    "import tensorflow as tf\n",
    "from tensorflow.keras import layers\n",
    "import tensorflow_probability as tfp\n",
    "import matplotlib.pyplot as plt\n",
    "import pandas as pd\n",
    "import aequitas as ae\n",
    "import tensorflow_data_validation as tfdv\n",
    "import seaborn as sns\n",
    "# Put all of the helper functions in utils\n",
    "from utils import build_vocab_files, show_group_stats_viz, aggregate_dataset, preprocess_df, df_to_dataset, posterior_mean_field, prior_trainable\n",
    "pd.set_option('display.max_columns', 500)\n",
    "# this allows you to make changes and save in student_utils.py and the file is reloaded every time you run a code block\n",
    "%load_ext autoreload\n",
    "%autoreload"
   ]
  },
  {
   "cell_type": "code",
   "execution_count": 74,
   "metadata": {},
   "outputs": [],
   "source": [
    "#OPEN ISSUE ON MAC OSX for TF model training\n",
    "import os\n",
    "os.environ['KMP_DUPLICATE_LIB_OK']='True'"
   ]
  },
  {
   "cell_type": "markdown",
   "metadata": {},
   "source": [
    "## Dataset Loading and Schema Review"
   ]
  },
  {
   "cell_type": "markdown",
   "metadata": {},
   "source": [
    "Load the dataset and view a sample of the dataset along with reviewing the schema reference files to gain a deeper understanding of the dataset. The dataset is located at the following path https://github.com/udacity/nd320-c1-emr-data-starter/blob/master/starter_code/data/final_project_dataset.csv\". Also, review the information found in the data schema https://github.com/udacity/nd320-c1-emr-data-starter/tree/master/data_schema_references/"
   ]
  },
  {
   "cell_type": "code",
   "execution_count": 3,
   "metadata": {},
   "outputs": [],
   "source": [
    "dataset_path = \"./data/final_project_dataset.csv\"\n",
    "df = pd.read_csv(dataset_path)\n",
    "df = df.replace('?', np.nan)\n",
    "df = df.replace('?|?', np.nan)\n",
    "df = df.replace('None', np.nan)"
   ]
  },
  {
   "cell_type": "code",
   "execution_count": 4,
   "metadata": {},
   "outputs": [
    {
     "data": {
      "text/html": [
       "<div>\n",
       "<style scoped>\n",
       "    .dataframe tbody tr th:only-of-type {\n",
       "        vertical-align: middle;\n",
       "    }\n",
       "\n",
       "    .dataframe tbody tr th {\n",
       "        vertical-align: top;\n",
       "    }\n",
       "\n",
       "    .dataframe thead th {\n",
       "        text-align: right;\n",
       "    }\n",
       "</style>\n",
       "<table border=\"1\" class=\"dataframe\">\n",
       "  <thead>\n",
       "    <tr style=\"text-align: right;\">\n",
       "      <th></th>\n",
       "      <th>encounter_id</th>\n",
       "      <th>patient_nbr</th>\n",
       "      <th>race</th>\n",
       "      <th>gender</th>\n",
       "      <th>age</th>\n",
       "      <th>weight</th>\n",
       "      <th>admission_type_id</th>\n",
       "      <th>discharge_disposition_id</th>\n",
       "      <th>admission_source_id</th>\n",
       "      <th>time_in_hospital</th>\n",
       "      <th>payer_code</th>\n",
       "      <th>medical_specialty</th>\n",
       "      <th>primary_diagnosis_code</th>\n",
       "      <th>other_diagnosis_codes</th>\n",
       "      <th>number_outpatient</th>\n",
       "      <th>number_inpatient</th>\n",
       "      <th>number_emergency</th>\n",
       "      <th>num_lab_procedures</th>\n",
       "      <th>number_diagnoses</th>\n",
       "      <th>num_medications</th>\n",
       "      <th>num_procedures</th>\n",
       "      <th>ndc_code</th>\n",
       "      <th>max_glu_serum</th>\n",
       "      <th>A1Cresult</th>\n",
       "      <th>change</th>\n",
       "      <th>readmitted</th>\n",
       "    </tr>\n",
       "  </thead>\n",
       "  <tbody>\n",
       "    <tr>\n",
       "      <th>0</th>\n",
       "      <td>2278392</td>\n",
       "      <td>8222157</td>\n",
       "      <td>Caucasian</td>\n",
       "      <td>Female</td>\n",
       "      <td>[0-10)</td>\n",
       "      <td>NaN</td>\n",
       "      <td>6</td>\n",
       "      <td>25</td>\n",
       "      <td>1</td>\n",
       "      <td>1</td>\n",
       "      <td>NaN</td>\n",
       "      <td>Pediatrics-Endocrinology</td>\n",
       "      <td>250.83</td>\n",
       "      <td>NaN</td>\n",
       "      <td>0</td>\n",
       "      <td>0</td>\n",
       "      <td>0</td>\n",
       "      <td>41</td>\n",
       "      <td>1</td>\n",
       "      <td>1</td>\n",
       "      <td>0</td>\n",
       "      <td>NaN</td>\n",
       "      <td>NaN</td>\n",
       "      <td>NaN</td>\n",
       "      <td>No</td>\n",
       "      <td>NO</td>\n",
       "    </tr>\n",
       "    <tr>\n",
       "      <th>1</th>\n",
       "      <td>149190</td>\n",
       "      <td>55629189</td>\n",
       "      <td>Caucasian</td>\n",
       "      <td>Female</td>\n",
       "      <td>[10-20)</td>\n",
       "      <td>NaN</td>\n",
       "      <td>1</td>\n",
       "      <td>1</td>\n",
       "      <td>7</td>\n",
       "      <td>3</td>\n",
       "      <td>NaN</td>\n",
       "      <td>NaN</td>\n",
       "      <td>276</td>\n",
       "      <td>250.01|255</td>\n",
       "      <td>0</td>\n",
       "      <td>0</td>\n",
       "      <td>0</td>\n",
       "      <td>59</td>\n",
       "      <td>9</td>\n",
       "      <td>18</td>\n",
       "      <td>0</td>\n",
       "      <td>68071-1701</td>\n",
       "      <td>NaN</td>\n",
       "      <td>NaN</td>\n",
       "      <td>Ch</td>\n",
       "      <td>&gt;30</td>\n",
       "    </tr>\n",
       "    <tr>\n",
       "      <th>2</th>\n",
       "      <td>64410</td>\n",
       "      <td>86047875</td>\n",
       "      <td>AfricanAmerican</td>\n",
       "      <td>Female</td>\n",
       "      <td>[20-30)</td>\n",
       "      <td>NaN</td>\n",
       "      <td>1</td>\n",
       "      <td>1</td>\n",
       "      <td>7</td>\n",
       "      <td>2</td>\n",
       "      <td>NaN</td>\n",
       "      <td>NaN</td>\n",
       "      <td>648</td>\n",
       "      <td>250|V27</td>\n",
       "      <td>2</td>\n",
       "      <td>1</td>\n",
       "      <td>0</td>\n",
       "      <td>11</td>\n",
       "      <td>6</td>\n",
       "      <td>13</td>\n",
       "      <td>5</td>\n",
       "      <td>0378-1110</td>\n",
       "      <td>NaN</td>\n",
       "      <td>NaN</td>\n",
       "      <td>No</td>\n",
       "      <td>NO</td>\n",
       "    </tr>\n",
       "    <tr>\n",
       "      <th>3</th>\n",
       "      <td>500364</td>\n",
       "      <td>82442376</td>\n",
       "      <td>Caucasian</td>\n",
       "      <td>Male</td>\n",
       "      <td>[30-40)</td>\n",
       "      <td>NaN</td>\n",
       "      <td>1</td>\n",
       "      <td>1</td>\n",
       "      <td>7</td>\n",
       "      <td>2</td>\n",
       "      <td>NaN</td>\n",
       "      <td>NaN</td>\n",
       "      <td>8</td>\n",
       "      <td>250.43|403</td>\n",
       "      <td>0</td>\n",
       "      <td>0</td>\n",
       "      <td>0</td>\n",
       "      <td>44</td>\n",
       "      <td>7</td>\n",
       "      <td>16</td>\n",
       "      <td>1</td>\n",
       "      <td>68071-1701</td>\n",
       "      <td>NaN</td>\n",
       "      <td>NaN</td>\n",
       "      <td>Ch</td>\n",
       "      <td>NO</td>\n",
       "    </tr>\n",
       "    <tr>\n",
       "      <th>4</th>\n",
       "      <td>16680</td>\n",
       "      <td>42519267</td>\n",
       "      <td>Caucasian</td>\n",
       "      <td>Male</td>\n",
       "      <td>[40-50)</td>\n",
       "      <td>NaN</td>\n",
       "      <td>1</td>\n",
       "      <td>1</td>\n",
       "      <td>7</td>\n",
       "      <td>1</td>\n",
       "      <td>NaN</td>\n",
       "      <td>NaN</td>\n",
       "      <td>197</td>\n",
       "      <td>157|250</td>\n",
       "      <td>0</td>\n",
       "      <td>0</td>\n",
       "      <td>0</td>\n",
       "      <td>51</td>\n",
       "      <td>5</td>\n",
       "      <td>8</td>\n",
       "      <td>0</td>\n",
       "      <td>0049-4110</td>\n",
       "      <td>NaN</td>\n",
       "      <td>NaN</td>\n",
       "      <td>Ch</td>\n",
       "      <td>NO</td>\n",
       "    </tr>\n",
       "  </tbody>\n",
       "</table>\n",
       "</div>"
      ],
      "text/plain": [
       "   encounter_id  patient_nbr             race  gender      age weight  \\\n",
       "0       2278392      8222157        Caucasian  Female   [0-10)    NaN   \n",
       "1        149190     55629189        Caucasian  Female  [10-20)    NaN   \n",
       "2         64410     86047875  AfricanAmerican  Female  [20-30)    NaN   \n",
       "3        500364     82442376        Caucasian    Male  [30-40)    NaN   \n",
       "4         16680     42519267        Caucasian    Male  [40-50)    NaN   \n",
       "\n",
       "   admission_type_id  discharge_disposition_id  admission_source_id  \\\n",
       "0                  6                        25                    1   \n",
       "1                  1                         1                    7   \n",
       "2                  1                         1                    7   \n",
       "3                  1                         1                    7   \n",
       "4                  1                         1                    7   \n",
       "\n",
       "   time_in_hospital payer_code         medical_specialty  \\\n",
       "0                 1        NaN  Pediatrics-Endocrinology   \n",
       "1                 3        NaN                       NaN   \n",
       "2                 2        NaN                       NaN   \n",
       "3                 2        NaN                       NaN   \n",
       "4                 1        NaN                       NaN   \n",
       "\n",
       "  primary_diagnosis_code other_diagnosis_codes  number_outpatient  \\\n",
       "0                 250.83                   NaN                  0   \n",
       "1                    276            250.01|255                  0   \n",
       "2                    648               250|V27                  2   \n",
       "3                      8            250.43|403                  0   \n",
       "4                    197               157|250                  0   \n",
       "\n",
       "   number_inpatient  number_emergency  num_lab_procedures  number_diagnoses  \\\n",
       "0                 0                 0                  41                 1   \n",
       "1                 0                 0                  59                 9   \n",
       "2                 1                 0                  11                 6   \n",
       "3                 0                 0                  44                 7   \n",
       "4                 0                 0                  51                 5   \n",
       "\n",
       "   num_medications  num_procedures    ndc_code max_glu_serum A1Cresult change  \\\n",
       "0                1               0         NaN           NaN       NaN     No   \n",
       "1               18               0  68071-1701           NaN       NaN     Ch   \n",
       "2               13               5   0378-1110           NaN       NaN     No   \n",
       "3               16               1  68071-1701           NaN       NaN     Ch   \n",
       "4                8               0   0049-4110           NaN       NaN     Ch   \n",
       "\n",
       "  readmitted  \n",
       "0         NO  \n",
       "1        >30  \n",
       "2         NO  \n",
       "3         NO  \n",
       "4         NO  "
      ]
     },
     "execution_count": 4,
     "metadata": {},
     "output_type": "execute_result"
    }
   ],
   "source": [
    "df.head()"
   ]
  },
  {
   "cell_type": "markdown",
   "metadata": {},
   "source": [
    "## Determine Level of Dataset (Line or Encounter)"
   ]
  },
  {
   "cell_type": "code",
   "execution_count": 5,
   "metadata": {
    "scrolled": false
   },
   "outputs": [
    {
     "name": "stdout",
     "output_type": "stream",
     "text": [
      "Dataset could be at the line level\n"
     ]
    }
   ],
   "source": [
    "# Line Test\n",
    "try:\n",
    "    assert len(df) > df['encounter_id'].nunique() \n",
    "    print(\"Dataset could be at the line level\")\n",
    "except:\n",
    "    print(\"Dataset is not at the line level\")"
   ]
  },
  {
   "cell_type": "code",
   "execution_count": 6,
   "metadata": {},
   "outputs": [
    {
     "name": "stdout",
     "output_type": "stream",
     "text": [
      "Dataset is not at the encounter level\n"
     ]
    }
   ],
   "source": [
    "# Encounter Test\n",
    "try:\n",
    "    assert len(df) == df['encounter_id'].nunique()\n",
    "    print(\"Dataset could be at the encounter level\")\n",
    "except:\n",
    "    print(\"Dataset is not at the encounter level\")"
   ]
  },
  {
   "cell_type": "markdown",
   "metadata": {},
   "source": [
    "## Analyze Dataset"
   ]
  },
  {
   "cell_type": "markdown",
   "metadata": {},
   "source": [
    "**Question 2**: The Tensorflow Data Validation and Analysis library(https://www.tensorflow.org/tfx/data_validation/get_started) is a useful tool for analyzing and summarizing dataset statistics. It is especially useful because it can scale to large datasets that do not fit into memory. Below we will use it to inspect the full project dataset.\n",
    "\n",
    "Based off of your analysis of the visualization, please provide answers to the following questions:\n",
    "    - a. Field(s) with high amount of missing/zero values\n",
    "    - b. Based off the frequency histogram for each numerical field, which numerical field(s) has/have a Gaussian(normal) distribution shape?\n",
    "    - c. Which field(s) have high cardinality and why (HINT: ndc_code is one feature)\n",
    "    - d. Please describe the demographic distributions in the dataset for the age and gender fields."
   ]
  },
  {
   "cell_type": "markdown",
   "metadata": {},
   "source": [
    "**a. Field(s) with high amount of missing/zero values**\n",
    "- 'weight', 'max_glu_serum' , 'A1Cresult', 'payer_code', 'medical_specialty'\n",
    " \n",
    "**b. which numerical field(s) has/have a Gaussian(normal) distribution shape?**\n",
    "- num_lab_procedure\t- num_medications\n",
    " \n",
    "**c. Which field(s) have high cardinality and why (HINT: ndc_code is one feature)**\n",
    "- primary_diagnosis_code - ndc_code\n",
    "- **why?** Because they are categorical features with a high number of unique values. The primary_diagnosis_code has 714 unique number, and the ndc_code has 251 unique number. \n",
    "    \n",
    "**d. describe the demographic distributions in the dataset for the age and gender fields.**\n",
    "- number of women and men are approximately equal. The max number of patients is in 70-80 bin age\n",
    " "
   ]
  },
  {
   "cell_type": "markdown",
   "metadata": {},
   "source": [
    "### Determining field(s) with high amount of missing/zero values"
   ]
  },
  {
   "cell_type": "code",
   "execution_count": 7,
   "metadata": {
    "scrolled": true
   },
   "outputs": [
    {
     "data": {
      "text/html": [
       "<div>\n",
       "<style scoped>\n",
       "    .dataframe tbody tr th:only-of-type {\n",
       "        vertical-align: middle;\n",
       "    }\n",
       "\n",
       "    .dataframe tbody tr th {\n",
       "        vertical-align: top;\n",
       "    }\n",
       "\n",
       "    .dataframe thead th {\n",
       "        text-align: right;\n",
       "    }\n",
       "</style>\n",
       "<table border=\"1\" class=\"dataframe\">\n",
       "  <thead>\n",
       "    <tr style=\"text-align: right;\">\n",
       "      <th></th>\n",
       "      <th>columns</th>\n",
       "      <th>percent_null</th>\n",
       "      <th>percent_Zero</th>\n",
       "    </tr>\n",
       "  </thead>\n",
       "  <tbody>\n",
       "    <tr>\n",
       "      <th>encounter_id</th>\n",
       "      <td>encounter_id</td>\n",
       "      <td>0.000000</td>\n",
       "      <td>0.000000</td>\n",
       "    </tr>\n",
       "    <tr>\n",
       "      <th>patient_nbr</th>\n",
       "      <td>patient_nbr</td>\n",
       "      <td>0.000000</td>\n",
       "      <td>0.000000</td>\n",
       "    </tr>\n",
       "    <tr>\n",
       "      <th>race</th>\n",
       "      <td>race</td>\n",
       "      <td>2.307145</td>\n",
       "      <td>0.000000</td>\n",
       "    </tr>\n",
       "    <tr>\n",
       "      <th>gender</th>\n",
       "      <td>gender</td>\n",
       "      <td>0.000000</td>\n",
       "      <td>0.000000</td>\n",
       "    </tr>\n",
       "    <tr>\n",
       "      <th>age</th>\n",
       "      <td>age</td>\n",
       "      <td>0.000000</td>\n",
       "      <td>0.000000</td>\n",
       "    </tr>\n",
       "    <tr>\n",
       "      <th>weight</th>\n",
       "      <td>weight</td>\n",
       "      <td>97.000502</td>\n",
       "      <td>0.000000</td>\n",
       "    </tr>\n",
       "    <tr>\n",
       "      <th>admission_type_id</th>\n",
       "      <td>admission_type_id</td>\n",
       "      <td>0.000000</td>\n",
       "      <td>0.000000</td>\n",
       "    </tr>\n",
       "    <tr>\n",
       "      <th>discharge_disposition_id</th>\n",
       "      <td>discharge_disposition_id</td>\n",
       "      <td>0.000000</td>\n",
       "      <td>0.000000</td>\n",
       "    </tr>\n",
       "    <tr>\n",
       "      <th>admission_source_id</th>\n",
       "      <td>admission_source_id</td>\n",
       "      <td>0.000000</td>\n",
       "      <td>0.000000</td>\n",
       "    </tr>\n",
       "    <tr>\n",
       "      <th>time_in_hospital</th>\n",
       "      <td>time_in_hospital</td>\n",
       "      <td>0.000000</td>\n",
       "      <td>0.000000</td>\n",
       "    </tr>\n",
       "    <tr>\n",
       "      <th>payer_code</th>\n",
       "      <td>payer_code</td>\n",
       "      <td>37.783077</td>\n",
       "      <td>0.000000</td>\n",
       "    </tr>\n",
       "    <tr>\n",
       "      <th>medical_specialty</th>\n",
       "      <td>medical_specialty</td>\n",
       "      <td>48.431922</td>\n",
       "      <td>0.000000</td>\n",
       "    </tr>\n",
       "    <tr>\n",
       "      <th>primary_diagnosis_code</th>\n",
       "      <td>primary_diagnosis_code</td>\n",
       "      <td>0.023009</td>\n",
       "      <td>0.000000</td>\n",
       "    </tr>\n",
       "    <tr>\n",
       "      <th>other_diagnosis_codes</th>\n",
       "      <td>other_diagnosis_codes</td>\n",
       "      <td>0.237059</td>\n",
       "      <td>0.000000</td>\n",
       "    </tr>\n",
       "    <tr>\n",
       "      <th>number_outpatient</th>\n",
       "      <td>number_outpatient</td>\n",
       "      <td>0.000000</td>\n",
       "      <td>83.686831</td>\n",
       "    </tr>\n",
       "    <tr>\n",
       "      <th>number_inpatient</th>\n",
       "      <td>number_inpatient</td>\n",
       "      <td>0.000000</td>\n",
       "      <td>67.421073</td>\n",
       "    </tr>\n",
       "    <tr>\n",
       "      <th>number_emergency</th>\n",
       "      <td>number_emergency</td>\n",
       "      <td>0.000000</td>\n",
       "      <td>88.858211</td>\n",
       "    </tr>\n",
       "    <tr>\n",
       "      <th>num_lab_procedures</th>\n",
       "      <td>num_lab_procedures</td>\n",
       "      <td>0.000000</td>\n",
       "      <td>0.000000</td>\n",
       "    </tr>\n",
       "    <tr>\n",
       "      <th>number_diagnoses</th>\n",
       "      <td>number_diagnoses</td>\n",
       "      <td>0.000000</td>\n",
       "      <td>0.000000</td>\n",
       "    </tr>\n",
       "    <tr>\n",
       "      <th>num_medications</th>\n",
       "      <td>num_medications</td>\n",
       "      <td>0.000000</td>\n",
       "      <td>0.000000</td>\n",
       "    </tr>\n",
       "    <tr>\n",
       "      <th>num_procedures</th>\n",
       "      <td>num_procedures</td>\n",
       "      <td>0.000000</td>\n",
       "      <td>45.869589</td>\n",
       "    </tr>\n",
       "    <tr>\n",
       "      <th>ndc_code</th>\n",
       "      <td>ndc_code</td>\n",
       "      <td>16.358490</td>\n",
       "      <td>0.000000</td>\n",
       "    </tr>\n",
       "    <tr>\n",
       "      <th>max_glu_serum</th>\n",
       "      <td>max_glu_serum</td>\n",
       "      <td>95.108908</td>\n",
       "      <td>0.000000</td>\n",
       "    </tr>\n",
       "    <tr>\n",
       "      <th>A1Cresult</th>\n",
       "      <td>A1Cresult</td>\n",
       "      <td>82.029507</td>\n",
       "      <td>0.000000</td>\n",
       "    </tr>\n",
       "    <tr>\n",
       "      <th>change</th>\n",
       "      <td>change</td>\n",
       "      <td>0.000000</td>\n",
       "      <td>0.000000</td>\n",
       "    </tr>\n",
       "    <tr>\n",
       "      <th>readmitted</th>\n",
       "      <td>readmitted</td>\n",
       "      <td>0.000000</td>\n",
       "      <td>0.000000</td>\n",
       "    </tr>\n",
       "  </tbody>\n",
       "</table>\n",
       "</div>"
      ],
      "text/plain": [
       "                                           columns  percent_null  percent_Zero\n",
       "encounter_id                          encounter_id      0.000000      0.000000\n",
       "patient_nbr                            patient_nbr      0.000000      0.000000\n",
       "race                                          race      2.307145      0.000000\n",
       "gender                                      gender      0.000000      0.000000\n",
       "age                                            age      0.000000      0.000000\n",
       "weight                                      weight     97.000502      0.000000\n",
       "admission_type_id                admission_type_id      0.000000      0.000000\n",
       "discharge_disposition_id  discharge_disposition_id      0.000000      0.000000\n",
       "admission_source_id            admission_source_id      0.000000      0.000000\n",
       "time_in_hospital                  time_in_hospital      0.000000      0.000000\n",
       "payer_code                              payer_code     37.783077      0.000000\n",
       "medical_specialty                medical_specialty     48.431922      0.000000\n",
       "primary_diagnosis_code      primary_diagnosis_code      0.023009      0.000000\n",
       "other_diagnosis_codes        other_diagnosis_codes      0.237059      0.000000\n",
       "number_outpatient                number_outpatient      0.000000     83.686831\n",
       "number_inpatient                  number_inpatient      0.000000     67.421073\n",
       "number_emergency                  number_emergency      0.000000     88.858211\n",
       "num_lab_procedures              num_lab_procedures      0.000000      0.000000\n",
       "number_diagnoses                  number_diagnoses      0.000000      0.000000\n",
       "num_medications                    num_medications      0.000000      0.000000\n",
       "num_procedures                      num_procedures      0.000000     45.869589\n",
       "ndc_code                                  ndc_code     16.358490      0.000000\n",
       "max_glu_serum                        max_glu_serum     95.108908      0.000000\n",
       "A1Cresult                                A1Cresult     82.029507      0.000000\n",
       "change                                      change      0.000000      0.000000\n",
       "readmitted                              readmitted      0.000000      0.000000"
      ]
     },
     "execution_count": 7,
     "metadata": {},
     "output_type": "execute_result"
    }
   ],
   "source": [
    "#Field(s) with high amount of missing/zero values\n",
    "from student_utils import check_for_missing_and_null\n",
    "null_df = check_for_missing_and_null(df)\n",
    "null_df"
   ]
  },
  {
   "cell_type": "markdown",
   "metadata": {},
   "source": [
    "**Field(s) with high amount of missing/zero values**\n",
    "- **'weight', 'max_glu_serum' , 'A1Cresult', 'payer_code', 'medical_specialty'**"
   ]
  },
  {
   "cell_type": "code",
   "execution_count": 8,
   "metadata": {},
   "outputs": [],
   "source": [
    "# dropping 'weight', 'max_glu_serum' , 'A1Cresult', 'payer_code', 'medical_specialty'\n",
    "df = df.drop(['weight', 'max_glu_serum' , 'A1Cresult', 'payer_code', 'medical_specialty'], axis = 1)"
   ]
  },
  {
   "cell_type": "code",
   "execution_count": 9,
   "metadata": {},
   "outputs": [
    {
     "name": "stdout",
     "output_type": "stream",
     "text": [
      "db percentage available after removing Unknown/Invalid raws for race:  0.9769486609166149\n",
      "db percentage available after removing null primary_diagnosis_code:  0.9767325110341029\n",
      "db percentage available after removing null other_diagnosis_codes:  0.974508259017285\n"
     ]
    }
   ],
   "source": [
    "#removing  raws with sex Unknown/Invalid'\n",
    "df = df[df['gender'] != 'Unknown/Invalid']\n",
    "# remove null raws\n",
    "x = len(df)\n",
    "df = df[df['race'].notna()]\n",
    "print ('db percentage available after removing Unknown/Invalid raws for race: ',len(df)/x)\n",
    "df = df[df['primary_diagnosis_code'].notna()]\n",
    "print ('db percentage available after removing null primary_diagnosis_code: ',len(df)/x)\n",
    "df = df[df['other_diagnosis_codes'].notna()]\n",
    "print ('db percentage available after removing null other_diagnosis_codes: ',len(df)/x)\n",
    "#df = df[df['ndc_code'].notna()]\n",
    "#print (len(df)/x)"
   ]
  },
  {
   "cell_type": "code",
   "execution_count": 10,
   "metadata": {},
   "outputs": [
    {
     "data": {
      "text/html": [
       "<div>\n",
       "<style scoped>\n",
       "    .dataframe tbody tr th:only-of-type {\n",
       "        vertical-align: middle;\n",
       "    }\n",
       "\n",
       "    .dataframe tbody tr th {\n",
       "        vertical-align: top;\n",
       "    }\n",
       "\n",
       "    .dataframe thead th {\n",
       "        text-align: right;\n",
       "    }\n",
       "</style>\n",
       "<table border=\"1\" class=\"dataframe\">\n",
       "  <thead>\n",
       "    <tr style=\"text-align: right;\">\n",
       "      <th></th>\n",
       "      <th>columns</th>\n",
       "      <th>percent_null</th>\n",
       "      <th>percent_Zero</th>\n",
       "    </tr>\n",
       "  </thead>\n",
       "  <tbody>\n",
       "    <tr>\n",
       "      <th>encounter_id</th>\n",
       "      <td>encounter_id</td>\n",
       "      <td>0.000000</td>\n",
       "      <td>0.000000</td>\n",
       "    </tr>\n",
       "    <tr>\n",
       "      <th>patient_nbr</th>\n",
       "      <td>patient_nbr</td>\n",
       "      <td>0.000000</td>\n",
       "      <td>0.000000</td>\n",
       "    </tr>\n",
       "    <tr>\n",
       "      <th>race</th>\n",
       "      <td>race</td>\n",
       "      <td>0.000000</td>\n",
       "      <td>0.000000</td>\n",
       "    </tr>\n",
       "    <tr>\n",
       "      <th>gender</th>\n",
       "      <td>gender</td>\n",
       "      <td>0.000000</td>\n",
       "      <td>0.000000</td>\n",
       "    </tr>\n",
       "    <tr>\n",
       "      <th>age</th>\n",
       "      <td>age</td>\n",
       "      <td>0.000000</td>\n",
       "      <td>0.000000</td>\n",
       "    </tr>\n",
       "    <tr>\n",
       "      <th>admission_type_id</th>\n",
       "      <td>admission_type_id</td>\n",
       "      <td>0.000000</td>\n",
       "      <td>0.000000</td>\n",
       "    </tr>\n",
       "    <tr>\n",
       "      <th>discharge_disposition_id</th>\n",
       "      <td>discharge_disposition_id</td>\n",
       "      <td>0.000000</td>\n",
       "      <td>0.000000</td>\n",
       "    </tr>\n",
       "    <tr>\n",
       "      <th>admission_source_id</th>\n",
       "      <td>admission_source_id</td>\n",
       "      <td>0.000000</td>\n",
       "      <td>0.000000</td>\n",
       "    </tr>\n",
       "    <tr>\n",
       "      <th>time_in_hospital</th>\n",
       "      <td>time_in_hospital</td>\n",
       "      <td>0.000000</td>\n",
       "      <td>0.000000</td>\n",
       "    </tr>\n",
       "    <tr>\n",
       "      <th>primary_diagnosis_code</th>\n",
       "      <td>primary_diagnosis_code</td>\n",
       "      <td>0.000000</td>\n",
       "      <td>0.000000</td>\n",
       "    </tr>\n",
       "    <tr>\n",
       "      <th>other_diagnosis_codes</th>\n",
       "      <td>other_diagnosis_codes</td>\n",
       "      <td>0.000000</td>\n",
       "      <td>0.000000</td>\n",
       "    </tr>\n",
       "    <tr>\n",
       "      <th>number_outpatient</th>\n",
       "      <td>number_outpatient</td>\n",
       "      <td>0.000000</td>\n",
       "      <td>83.503502</td>\n",
       "    </tr>\n",
       "    <tr>\n",
       "      <th>number_inpatient</th>\n",
       "      <td>number_inpatient</td>\n",
       "      <td>0.000000</td>\n",
       "      <td>67.081416</td>\n",
       "    </tr>\n",
       "    <tr>\n",
       "      <th>number_emergency</th>\n",
       "      <td>number_emergency</td>\n",
       "      <td>0.000000</td>\n",
       "      <td>88.667244</td>\n",
       "    </tr>\n",
       "    <tr>\n",
       "      <th>num_lab_procedures</th>\n",
       "      <td>num_lab_procedures</td>\n",
       "      <td>0.000000</td>\n",
       "      <td>0.000000</td>\n",
       "    </tr>\n",
       "    <tr>\n",
       "      <th>number_diagnoses</th>\n",
       "      <td>number_diagnoses</td>\n",
       "      <td>0.000000</td>\n",
       "      <td>0.000000</td>\n",
       "    </tr>\n",
       "    <tr>\n",
       "      <th>num_medications</th>\n",
       "      <td>num_medications</td>\n",
       "      <td>0.000000</td>\n",
       "      <td>0.000000</td>\n",
       "    </tr>\n",
       "    <tr>\n",
       "      <th>num_procedures</th>\n",
       "      <td>num_procedures</td>\n",
       "      <td>0.000000</td>\n",
       "      <td>45.685911</td>\n",
       "    </tr>\n",
       "    <tr>\n",
       "      <th>ndc_code</th>\n",
       "      <td>ndc_code</td>\n",
       "      <td>16.468593</td>\n",
       "      <td>0.000000</td>\n",
       "    </tr>\n",
       "    <tr>\n",
       "      <th>change</th>\n",
       "      <td>change</td>\n",
       "      <td>0.000000</td>\n",
       "      <td>0.000000</td>\n",
       "    </tr>\n",
       "    <tr>\n",
       "      <th>readmitted</th>\n",
       "      <td>readmitted</td>\n",
       "      <td>0.000000</td>\n",
       "      <td>0.000000</td>\n",
       "    </tr>\n",
       "  </tbody>\n",
       "</table>\n",
       "</div>"
      ],
      "text/plain": [
       "                                           columns  percent_null  percent_Zero\n",
       "encounter_id                          encounter_id      0.000000      0.000000\n",
       "patient_nbr                            patient_nbr      0.000000      0.000000\n",
       "race                                          race      0.000000      0.000000\n",
       "gender                                      gender      0.000000      0.000000\n",
       "age                                            age      0.000000      0.000000\n",
       "admission_type_id                admission_type_id      0.000000      0.000000\n",
       "discharge_disposition_id  discharge_disposition_id      0.000000      0.000000\n",
       "admission_source_id            admission_source_id      0.000000      0.000000\n",
       "time_in_hospital                  time_in_hospital      0.000000      0.000000\n",
       "primary_diagnosis_code      primary_diagnosis_code      0.000000      0.000000\n",
       "other_diagnosis_codes        other_diagnosis_codes      0.000000      0.000000\n",
       "number_outpatient                number_outpatient      0.000000     83.503502\n",
       "number_inpatient                  number_inpatient      0.000000     67.081416\n",
       "number_emergency                  number_emergency      0.000000     88.667244\n",
       "num_lab_procedures              num_lab_procedures      0.000000      0.000000\n",
       "number_diagnoses                  number_diagnoses      0.000000      0.000000\n",
       "num_medications                    num_medications      0.000000      0.000000\n",
       "num_procedures                      num_procedures      0.000000     45.685911\n",
       "ndc_code                                  ndc_code     16.468593      0.000000\n",
       "change                                      change      0.000000      0.000000\n",
       "readmitted                              readmitted      0.000000      0.000000"
      ]
     },
     "execution_count": 10,
     "metadata": {},
     "output_type": "execute_result"
    }
   ],
   "source": [
    "#Field(s) with high amount of missing/zero values\n",
    "from student_utils import check_for_missing_and_null\n",
    "null_df = check_for_missing_and_null(df)\n",
    "null_df"
   ]
  },
  {
   "cell_type": "markdown",
   "metadata": {},
   "source": [
    "###  Determing numerical field(s) has/have a Gaussian(normal) distribution shape?"
   ]
  },
  {
   "cell_type": "code",
   "execution_count": 11,
   "metadata": {},
   "outputs": [
    {
     "name": "stderr",
     "output_type": "stream",
     "text": [
      "/opt/conda/lib/python3.7/site-packages/pandas/plotting/_matplotlib/tools.py:298: MatplotlibDeprecationWarning: \n",
      "The rowNum attribute was deprecated in Matplotlib 3.2 and will be removed two minor releases later. Use ax.get_subplotspec().rowspan.start instead.\n",
      "  layout[ax.rowNum, ax.colNum] = ax.get_visible()\n",
      "/opt/conda/lib/python3.7/site-packages/pandas/plotting/_matplotlib/tools.py:298: MatplotlibDeprecationWarning: \n",
      "The colNum attribute was deprecated in Matplotlib 3.2 and will be removed two minor releases later. Use ax.get_subplotspec().colspan.start instead.\n",
      "  layout[ax.rowNum, ax.colNum] = ax.get_visible()\n",
      "/opt/conda/lib/python3.7/site-packages/pandas/plotting/_matplotlib/tools.py:304: MatplotlibDeprecationWarning: \n",
      "The rowNum attribute was deprecated in Matplotlib 3.2 and will be removed two minor releases later. Use ax.get_subplotspec().rowspan.start instead.\n",
      "  if not layout[ax.rowNum + 1, ax.colNum]:\n",
      "/opt/conda/lib/python3.7/site-packages/pandas/plotting/_matplotlib/tools.py:304: MatplotlibDeprecationWarning: \n",
      "The colNum attribute was deprecated in Matplotlib 3.2 and will be removed two minor releases later. Use ax.get_subplotspec().colspan.start instead.\n",
      "  if not layout[ax.rowNum + 1, ax.colNum]:\n"
     ]
    },
    {
     "data": {
      "text/plain": [
       "array([[<matplotlib.axes._subplots.AxesSubplot object at 0x7f9d33575b90>,\n",
       "        <matplotlib.axes._subplots.AxesSubplot object at 0x7f9d3300d650>,\n",
       "        <matplotlib.axes._subplots.AxesSubplot object at 0x7f9d32e31850>],\n",
       "       [<matplotlib.axes._subplots.AxesSubplot object at 0x7f9d330a4ed0>,\n",
       "        <matplotlib.axes._subplots.AxesSubplot object at 0x7f9d33061590>,\n",
       "        <matplotlib.axes._subplots.AxesSubplot object at 0x7f9d33093c10>],\n",
       "       [<matplotlib.axes._subplots.AxesSubplot object at 0x7f9d3304f2d0>,\n",
       "        <matplotlib.axes._subplots.AxesSubplot object at 0x7f9d32f02950>,\n",
       "        <matplotlib.axes._subplots.AxesSubplot object at 0x7f9d32eb3fd0>]],\n",
       "      dtype=object)"
      ]
     },
     "execution_count": 11,
     "metadata": {},
     "output_type": "execute_result"
    },
    {
     "data": {
      "image/png": "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\n",
      "text/plain": [
       "<Figure size 432x288 with 9 Axes>"
      ]
     },
     "metadata": {
      "needs_background": "light"
     },
     "output_type": "display_data"
    }
   ],
   "source": [
    "#Based off the frequency histogram for each numerical field, which numerical field(s) has/have a Gaussian(normal) distribution shape?\n",
    "numerical_features_list = ['time_in_hospital', 'number_outpatient', 'number_inpatient','number_emergency',\n",
    "'num_lab_procedures','number_diagnoses', 'num_medications','num_procedures']\n",
    "df[numerical_features_list].hist()"
   ]
  },
  {
   "cell_type": "markdown",
   "metadata": {},
   "source": [
    "**numerical field(s) has/have a Gaussian(normal) distribution shape are:**\n",
    "- **num_lab_procedure - num_medications**"
   ]
  },
  {
   "cell_type": "markdown",
   "metadata": {},
   "source": [
    " ### Determining field(s) with high cardinality and why "
   ]
  },
  {
   "cell_type": "code",
   "execution_count": 12,
   "metadata": {},
   "outputs": [
    {
     "data": {
      "text/html": [
       "<div>\n",
       "<style scoped>\n",
       "    .dataframe tbody tr th:only-of-type {\n",
       "        vertical-align: middle;\n",
       "    }\n",
       "\n",
       "    .dataframe tbody tr th {\n",
       "        vertical-align: top;\n",
       "    }\n",
       "\n",
       "    .dataframe thead th {\n",
       "        text-align: right;\n",
       "    }\n",
       "</style>\n",
       "<table border=\"1\" class=\"dataframe\">\n",
       "  <thead>\n",
       "    <tr style=\"text-align: right;\">\n",
       "      <th></th>\n",
       "      <th>columns</th>\n",
       "      <th>cadinality</th>\n",
       "    </tr>\n",
       "  </thead>\n",
       "  <tbody>\n",
       "    <tr>\n",
       "      <th>race</th>\n",
       "      <td>race</td>\n",
       "      <td>5</td>\n",
       "    </tr>\n",
       "    <tr>\n",
       "      <th>gender</th>\n",
       "      <td>gender</td>\n",
       "      <td>2</td>\n",
       "    </tr>\n",
       "    <tr>\n",
       "      <th>age</th>\n",
       "      <td>age</td>\n",
       "      <td>10</td>\n",
       "    </tr>\n",
       "    <tr>\n",
       "      <th>admission_type_id</th>\n",
       "      <td>admission_type_id</td>\n",
       "      <td>8</td>\n",
       "    </tr>\n",
       "    <tr>\n",
       "      <th>discharge_disposition_id</th>\n",
       "      <td>discharge_disposition_id</td>\n",
       "      <td>26</td>\n",
       "    </tr>\n",
       "    <tr>\n",
       "      <th>admission_source_id</th>\n",
       "      <td>admission_source_id</td>\n",
       "      <td>17</td>\n",
       "    </tr>\n",
       "    <tr>\n",
       "      <th>primary_diagnosis_code</th>\n",
       "      <td>primary_diagnosis_code</td>\n",
       "      <td>714</td>\n",
       "    </tr>\n",
       "    <tr>\n",
       "      <th>ndc_code</th>\n",
       "      <td>ndc_code</td>\n",
       "      <td>251</td>\n",
       "    </tr>\n",
       "    <tr>\n",
       "      <th>change</th>\n",
       "      <td>change</td>\n",
       "      <td>2</td>\n",
       "    </tr>\n",
       "    <tr>\n",
       "      <th>readmitted</th>\n",
       "      <td>readmitted</td>\n",
       "      <td>3</td>\n",
       "    </tr>\n",
       "  </tbody>\n",
       "</table>\n",
       "</div>"
      ],
      "text/plain": [
       "                                           columns  cadinality\n",
       "race                                          race           5\n",
       "gender                                      gender           2\n",
       "age                                            age          10\n",
       "admission_type_id                admission_type_id           8\n",
       "discharge_disposition_id  discharge_disposition_id          26\n",
       "admission_source_id            admission_source_id          17\n",
       "primary_diagnosis_code      primary_diagnosis_code         714\n",
       "ndc_code                                  ndc_code         251\n",
       "change                                      change           2\n",
       "readmitted                              readmitted           3"
      ]
     },
     "execution_count": 12,
     "metadata": {},
     "output_type": "execute_result"
    }
   ],
   "source": [
    "#c. Which field(s) have high cardinality and why (HINT: ndc_code is one feature)\n",
    "from student_utils import count_unique_values\n",
    "categorical_features_list = ['race', 'gender', 'age', 'admission_type_id','discharge_disposition_id','admission_source_id','primary_diagnosis_code','ndc_code','change','readmitted']\n",
    "candinality_df = count_unique_values(df, categorical_features_list )\n",
    "candinality_df"
   ]
  },
  {
   "cell_type": "markdown",
   "metadata": {},
   "source": [
    "**field(s) with high cardinality are:**\n",
    "- **primary_diagnosis_code  and ndc_code**\n",
    "- **why?** Because they are categorical features with a high number of unique values. The primary_diagnosis_code has 714 unique number, and the ndc_code has 251 unique number. "
   ]
  },
  {
   "cell_type": "markdown",
   "metadata": {},
   "source": [
    "### **describe the demographic distributions in the dataset for the age and gender fields.**\n",
    "- **number of women and men are approximately equal. The max number of patients is in 70-80 bin age**"
   ]
  },
  {
   "cell_type": "code",
   "execution_count": 13,
   "metadata": {},
   "outputs": [
    {
     "data": {
      "text/plain": [
       "<matplotlib.axes._subplots.AxesSubplot at 0x7f9d30bedb90>"
      ]
     },
     "execution_count": 13,
     "metadata": {},
     "output_type": "execute_result"
    },
    {
     "data": {
      "image/png": "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\n",
      "text/plain": [
       "<Figure size 432x288 with 1 Axes>"
      ]
     },
     "metadata": {
      "needs_background": "light"
     },
     "output_type": "display_data"
    }
   ],
   "source": [
    "# describe the demographic distributions in the dataset for the age \n",
    "df['age'].value_counts().plot(kind='bar')"
   ]
  },
  {
   "cell_type": "code",
   "execution_count": 14,
   "metadata": {},
   "outputs": [
    {
     "data": {
      "text/plain": [
       "<matplotlib.axes._subplots.AxesSubplot at 0x7f9d30b41050>"
      ]
     },
     "execution_count": 14,
     "metadata": {},
     "output_type": "execute_result"
    },
    {
     "data": {
      "image/png": "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\n",
      "text/plain": [
       "<Figure size 432x288 with 1 Axes>"
      ]
     },
     "metadata": {
      "needs_background": "light"
     },
     "output_type": "display_data"
    }
   ],
   "source": [
    "# describe the demographic distributions in the dataset for the gender\n",
    "df['gender'].value_counts().plot(kind='bar')"
   ]
  },
  {
   "cell_type": "code",
   "execution_count": 15,
   "metadata": {},
   "outputs": [
    {
     "data": {
      "image/png": "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\n",
      "text/plain": [
       "<Figure size 432x288 with 1 Axes>"
      ]
     },
     "metadata": {
      "needs_background": "light"
     },
     "output_type": "display_data"
    }
   ],
   "source": [
    "# describe the demographic distributions in the dataset for the age and gender fields.\n",
    "ax = sns.countplot(x=\"age\", hue=\"gender\", data=df[['age', 'gender']])"
   ]
  },
  {
   "cell_type": "markdown",
   "metadata": {},
   "source": [
    "## Reduce Dimensionality of the NDC Code Feature"
   ]
  },
  {
   "cell_type": "markdown",
   "metadata": {},
   "source": [
    "NDC codes are a common format to represent the wide variety of drugs that are prescribed for patient care in the United States. The challenge is that there are many codes that map to the same or similar drug. We can use the ndc drug lookup file https://github.com/udacity/nd320-c1-emr-data-starter/tree/master/data_schema_references/ndc_lookup_table.csv derived from the National Drug Codes List site(https://ndclist.com/) to reduce the dimensionality of this field and create a new field in the dataset called \"generic_drug_name\" in the output dataframe. "
   ]
  },
  {
   "cell_type": "code",
   "execution_count": 16,
   "metadata": {},
   "outputs": [],
   "source": [
    "#NDC code lookup file\n",
    "ndc_code_path = \"./medication_lookup_tables/final_ndc_lookup_table\"\n",
    "ndc_df = pd.read_csv(ndc_code_path)"
   ]
  },
  {
   "cell_type": "code",
   "execution_count": 17,
   "metadata": {},
   "outputs": [
    {
     "data": {
      "text/html": [
       "<div>\n",
       "<style scoped>\n",
       "    .dataframe tbody tr th:only-of-type {\n",
       "        vertical-align: middle;\n",
       "    }\n",
       "\n",
       "    .dataframe tbody tr th {\n",
       "        vertical-align: top;\n",
       "    }\n",
       "\n",
       "    .dataframe thead th {\n",
       "        text-align: right;\n",
       "    }\n",
       "</style>\n",
       "<table border=\"1\" class=\"dataframe\">\n",
       "  <thead>\n",
       "    <tr style=\"text-align: right;\">\n",
       "      <th></th>\n",
       "      <th>NDC_Code</th>\n",
       "      <th>Proprietary Name</th>\n",
       "      <th>Non-proprietary Name</th>\n",
       "      <th>Dosage Form</th>\n",
       "      <th>Route Name</th>\n",
       "      <th>Company Name</th>\n",
       "      <th>Product Type</th>\n",
       "    </tr>\n",
       "  </thead>\n",
       "  <tbody>\n",
       "    <tr>\n",
       "      <th>0</th>\n",
       "      <td>0087-6060</td>\n",
       "      <td>Glucophage</td>\n",
       "      <td>Metformin Hydrochloride</td>\n",
       "      <td>Tablet, Film Coated</td>\n",
       "      <td>Oral</td>\n",
       "      <td>Bristol-myers Squibb Company</td>\n",
       "      <td>Human Prescription Drug</td>\n",
       "    </tr>\n",
       "    <tr>\n",
       "      <th>1</th>\n",
       "      <td>0087-6063</td>\n",
       "      <td>Glucophage XR</td>\n",
       "      <td>Metformin Hydrochloride</td>\n",
       "      <td>Tablet, Extended Release</td>\n",
       "      <td>Oral</td>\n",
       "      <td>Bristol-myers Squibb Company</td>\n",
       "      <td>Human Prescription Drug</td>\n",
       "    </tr>\n",
       "    <tr>\n",
       "      <th>2</th>\n",
       "      <td>0087-6064</td>\n",
       "      <td>Glucophage XR</td>\n",
       "      <td>Metformin Hydrochloride</td>\n",
       "      <td>Tablet, Extended Release</td>\n",
       "      <td>Oral</td>\n",
       "      <td>Bristol-myers Squibb Company</td>\n",
       "      <td>Human Prescription Drug</td>\n",
       "    </tr>\n",
       "    <tr>\n",
       "      <th>3</th>\n",
       "      <td>0087-6070</td>\n",
       "      <td>Glucophage</td>\n",
       "      <td>Metformin Hydrochloride</td>\n",
       "      <td>Tablet, Film Coated</td>\n",
       "      <td>Oral</td>\n",
       "      <td>Bristol-myers Squibb Company</td>\n",
       "      <td>Human Prescription Drug</td>\n",
       "    </tr>\n",
       "    <tr>\n",
       "      <th>4</th>\n",
       "      <td>0087-6071</td>\n",
       "      <td>Glucophage</td>\n",
       "      <td>Metformin Hydrochloride</td>\n",
       "      <td>Tablet, Film Coated</td>\n",
       "      <td>Oral</td>\n",
       "      <td>Bristol-myers Squibb Company</td>\n",
       "      <td>Human Prescription Drug</td>\n",
       "    </tr>\n",
       "  </tbody>\n",
       "</table>\n",
       "</div>"
      ],
      "text/plain": [
       "    NDC_Code Proprietary Name     Non-proprietary Name  \\\n",
       "0  0087-6060       Glucophage  Metformin Hydrochloride   \n",
       "1  0087-6063    Glucophage XR  Metformin Hydrochloride   \n",
       "2  0087-6064    Glucophage XR  Metformin Hydrochloride   \n",
       "3  0087-6070       Glucophage  Metformin Hydrochloride   \n",
       "4  0087-6071       Glucophage  Metformin Hydrochloride   \n",
       "\n",
       "                Dosage Form Route Name                  Company Name  \\\n",
       "0       Tablet, Film Coated       Oral  Bristol-myers Squibb Company   \n",
       "1  Tablet, Extended Release       Oral  Bristol-myers Squibb Company   \n",
       "2  Tablet, Extended Release       Oral  Bristol-myers Squibb Company   \n",
       "3       Tablet, Film Coated       Oral  Bristol-myers Squibb Company   \n",
       "4       Tablet, Film Coated       Oral  Bristol-myers Squibb Company   \n",
       "\n",
       "              Product Type  \n",
       "0  Human Prescription Drug  \n",
       "1  Human Prescription Drug  \n",
       "2  Human Prescription Drug  \n",
       "3  Human Prescription Drug  \n",
       "4  Human Prescription Drug  "
      ]
     },
     "execution_count": 17,
     "metadata": {},
     "output_type": "execute_result"
    }
   ],
   "source": [
    "ndc_df.head()"
   ]
  },
  {
   "cell_type": "code",
   "execution_count": 18,
   "metadata": {},
   "outputs": [],
   "source": [
    "from student_utils import reduce_dimension_ndc"
   ]
  },
  {
   "cell_type": "code",
   "execution_count": 40,
   "metadata": {},
   "outputs": [
    {
     "data": {
      "text/plain": [
       "251"
      ]
     },
     "execution_count": 40,
     "metadata": {},
     "output_type": "execute_result"
    }
   ],
   "source": [
    "reduce_dim_df = reduce_dimension_ndc(df, ndc_df)\n",
    "reduce_dim_df['ndc_code'].nunique()"
   ]
  },
  {
   "cell_type": "code",
   "execution_count": 41,
   "metadata": {},
   "outputs": [
    {
     "data": {
      "text/plain": [
       "22"
      ]
     },
     "execution_count": 41,
     "metadata": {},
     "output_type": "execute_result"
    }
   ],
   "source": [
    "reduce_dim_df['generic_drug_name'].nunique()"
   ]
  },
  {
   "cell_type": "code",
   "execution_count": 42,
   "metadata": {},
   "outputs": [],
   "source": [
    "# Number of unique values should be less for the new output field\n",
    "assert df['ndc_code'].nunique() > reduce_dim_df['generic_drug_name'].nunique()"
   ]
  },
  {
   "cell_type": "markdown",
   "metadata": {},
   "source": [
    "## Select First Encounter for each Patient "
   ]
  },
  {
   "cell_type": "markdown",
   "metadata": {},
   "source": [
    "In order to simplify the aggregation of data for the model, we will only select the first encounter for each patient in the dataset. This is to reduce the risk of data leakage of future patient encounters and to reduce complexity of the data transformation and modeling steps. We will assume that sorting in numerical order on the encounter_id provides the time horizon for determining which encounters come before and after another."
   ]
  },
  {
   "cell_type": "code",
   "execution_count": 43,
   "metadata": {},
   "outputs": [],
   "source": [
    "from student_utils import select_first_encounter\n",
    "first_encounter_df = select_first_encounter(reduce_dim_df)"
   ]
  },
  {
   "cell_type": "code",
   "execution_count": 44,
   "metadata": {},
   "outputs": [
    {
     "name": "stdout",
     "output_type": "stream",
     "text": [
      "length reduce_dim_df:  139763\n",
      "length first_encounter_df:  98763\n",
      "Number of unique patients:69447\n",
      "Number of unique encounters:69447\n",
      "original_unique_patient_number:69447\n",
      "Tests passed!!\n"
     ]
    },
    {
     "data": {
      "text/plain": [
       "98763"
      ]
     },
     "execution_count": 44,
     "metadata": {},
     "output_type": "execute_result"
    }
   ],
   "source": [
    "print(\"length reduce_dim_df: \", len(reduce_dim_df))\n",
    "print(\"length first_encounter_df: \", len(first_encounter_df))\n",
    "# unique patients in transformed dataset\n",
    "unique_patients = first_encounter_df['patient_nbr'].nunique()\n",
    "print(\"Number of unique patients:{}\".format(unique_patients))\n",
    "\n",
    "# unique encounters in transformed dataset\n",
    "unique_encounters = first_encounter_df['encounter_id'].nunique()\n",
    "print(\"Number of unique encounters:{}\".format(unique_encounters))\n",
    "\n",
    "original_unique_patient_number = reduce_dim_df['patient_nbr'].nunique()\n",
    "print(\"original_unique_patient_number:{}\".format(original_unique_patient_number))\n",
    "# number of unique patients should be equal to the number of unique encounters and patients in the final dataset\n",
    "assert original_unique_patient_number == unique_patients\n",
    "assert original_unique_patient_number == unique_encounters\n",
    "print(\"Tests passed!!\")\n",
    "len(first_encounter_df)\n"
   ]
  },
  {
   "cell_type": "markdown",
   "metadata": {},
   "source": [
    "## Aggregate Dataset to Right Level for Modeling "
   ]
  },
  {
   "cell_type": "markdown",
   "metadata": {},
   "source": [
    "The 'aggregate_dataset\" function that you can find in the 'utils.py' file can take the preceding dataframe with the 'generic_drug_name' field and transform the data appropriately for the project. \n",
    "\n",
    "To make it simpler, we are creating dummy columns for each unique generic drug name and adding those are input features to the model. There are other options for data representation but this is out of scope for the time constraints of the course."
   ]
  },
  {
   "cell_type": "code",
   "execution_count": 45,
   "metadata": {},
   "outputs": [],
   "source": [
    "exclusion_list = ['generic_drug_name']\n",
    "grouping_field_list = [c for c in first_encounter_df.columns if c not in exclusion_list]\n",
    "agg_drug_df, ndc_col_list = aggregate_dataset(first_encounter_df, grouping_field_list, 'generic_drug_name')"
   ]
  },
  {
   "cell_type": "code",
   "execution_count": 46,
   "metadata": {},
   "outputs": [],
   "source": [
    "assert len(agg_drug_df) == agg_drug_df['patient_nbr'].nunique() == agg_drug_df['encounter_id'].nunique()"
   ]
  },
  {
   "cell_type": "code",
   "execution_count": 47,
   "metadata": {},
   "outputs": [
    {
     "data": {
      "text/html": [
       "<div>\n",
       "<style scoped>\n",
       "    .dataframe tbody tr th:only-of-type {\n",
       "        vertical-align: middle;\n",
       "    }\n",
       "\n",
       "    .dataframe tbody tr th {\n",
       "        vertical-align: top;\n",
       "    }\n",
       "\n",
       "    .dataframe thead th {\n",
       "        text-align: right;\n",
       "    }\n",
       "</style>\n",
       "<table border=\"1\" class=\"dataframe\">\n",
       "  <thead>\n",
       "    <tr style=\"text-align: right;\">\n",
       "      <th></th>\n",
       "      <th>encounter_id</th>\n",
       "      <th>patient_nbr</th>\n",
       "      <th>race</th>\n",
       "      <th>gender</th>\n",
       "      <th>age</th>\n",
       "      <th>admission_type_id</th>\n",
       "      <th>discharge_disposition_id</th>\n",
       "      <th>admission_source_id</th>\n",
       "      <th>time_in_hospital</th>\n",
       "      <th>primary_diagnosis_code</th>\n",
       "      <th>other_diagnosis_codes</th>\n",
       "      <th>number_outpatient</th>\n",
       "      <th>number_inpatient</th>\n",
       "      <th>number_emergency</th>\n",
       "      <th>num_lab_procedures</th>\n",
       "      <th>number_diagnoses</th>\n",
       "      <th>num_medications</th>\n",
       "      <th>num_procedures</th>\n",
       "      <th>change</th>\n",
       "      <th>readmitted</th>\n",
       "      <th>ndc_code</th>\n",
       "      <th>generic_drug_name</th>\n",
       "      <th>Acarbose</th>\n",
       "      <th>Glimepiride</th>\n",
       "      <th>Glipizide</th>\n",
       "      <th>Glipizide_And_Metformin_Hcl</th>\n",
       "      <th>Glipizide_And_Metformin_Hydrochloride</th>\n",
       "      <th>Glyburide</th>\n",
       "      <th>Glyburide_And_Metformin_Hydrochloride</th>\n",
       "      <th>Glyburide-metformin_Hydrochloride</th>\n",
       "      <th>Human_Insulin</th>\n",
       "      <th>Insulin_Human</th>\n",
       "      <th>Metformin_Hcl</th>\n",
       "      <th>Metformin_Hydrochloride</th>\n",
       "      <th>Miglitol</th>\n",
       "      <th>Nateglinide</th>\n",
       "      <th>Pioglitazole_And_Metformin_Hydrochloride</th>\n",
       "      <th>Pioglitazone</th>\n",
       "      <th>Pioglitazone_Hydrochloride_And_Glimepiride</th>\n",
       "      <th>Repaglinide</th>\n",
       "      <th>Rosiglitazone_Maleate</th>\n",
       "      <th>Tolazamide</th>\n",
       "      <th>Tolbutamide</th>\n",
       "    </tr>\n",
       "  </thead>\n",
       "  <tbody>\n",
       "    <tr>\n",
       "      <th>0</th>\n",
       "      <td>12522</td>\n",
       "      <td>48330783</td>\n",
       "      <td>Caucasian</td>\n",
       "      <td>Female</td>\n",
       "      <td>[80-90)</td>\n",
       "      <td>2</td>\n",
       "      <td>1</td>\n",
       "      <td>4</td>\n",
       "      <td>13</td>\n",
       "      <td>398</td>\n",
       "      <td>427|38</td>\n",
       "      <td>0</td>\n",
       "      <td>0</td>\n",
       "      <td>0</td>\n",
       "      <td>68</td>\n",
       "      <td>8</td>\n",
       "      <td>28</td>\n",
       "      <td>2</td>\n",
       "      <td>Ch</td>\n",
       "      <td>NO</td>\n",
       "      <td>[47918-902, 0049-4110]</td>\n",
       "      <td>[Insulin Human, Glipizide]</td>\n",
       "      <td>0.0</td>\n",
       "      <td>0.0</td>\n",
       "      <td>1.0</td>\n",
       "      <td>0.0</td>\n",
       "      <td>0.0</td>\n",
       "      <td>0.0</td>\n",
       "      <td>0.0</td>\n",
       "      <td>0.0</td>\n",
       "      <td>0.0</td>\n",
       "      <td>1.0</td>\n",
       "      <td>0.0</td>\n",
       "      <td>0.0</td>\n",
       "      <td>0.0</td>\n",
       "      <td>0.0</td>\n",
       "      <td>0.0</td>\n",
       "      <td>0.0</td>\n",
       "      <td>0.0</td>\n",
       "      <td>0.0</td>\n",
       "      <td>0.0</td>\n",
       "      <td>0.0</td>\n",
       "      <td>0.0</td>\n",
       "    </tr>\n",
       "    <tr>\n",
       "      <th>1</th>\n",
       "      <td>15738</td>\n",
       "      <td>63555939</td>\n",
       "      <td>Caucasian</td>\n",
       "      <td>Female</td>\n",
       "      <td>[90-100)</td>\n",
       "      <td>3</td>\n",
       "      <td>3</td>\n",
       "      <td>4</td>\n",
       "      <td>12</td>\n",
       "      <td>434</td>\n",
       "      <td>198|486</td>\n",
       "      <td>0</td>\n",
       "      <td>0</td>\n",
       "      <td>0</td>\n",
       "      <td>33</td>\n",
       "      <td>8</td>\n",
       "      <td>18</td>\n",
       "      <td>3</td>\n",
       "      <td>Ch</td>\n",
       "      <td>NO</td>\n",
       "      <td>[0173-0863, 68071-1701]</td>\n",
       "      <td>[Rosiglitazone Maleate, Human Insulin]</td>\n",
       "      <td>0.0</td>\n",
       "      <td>0.0</td>\n",
       "      <td>0.0</td>\n",
       "      <td>0.0</td>\n",
       "      <td>0.0</td>\n",
       "      <td>0.0</td>\n",
       "      <td>0.0</td>\n",
       "      <td>0.0</td>\n",
       "      <td>1.0</td>\n",
       "      <td>0.0</td>\n",
       "      <td>0.0</td>\n",
       "      <td>0.0</td>\n",
       "      <td>0.0</td>\n",
       "      <td>0.0</td>\n",
       "      <td>0.0</td>\n",
       "      <td>0.0</td>\n",
       "      <td>0.0</td>\n",
       "      <td>0.0</td>\n",
       "      <td>1.0</td>\n",
       "      <td>0.0</td>\n",
       "      <td>0.0</td>\n",
       "    </tr>\n",
       "    <tr>\n",
       "      <th>2</th>\n",
       "      <td>16680</td>\n",
       "      <td>42519267</td>\n",
       "      <td>Caucasian</td>\n",
       "      <td>Male</td>\n",
       "      <td>[40-50)</td>\n",
       "      <td>1</td>\n",
       "      <td>1</td>\n",
       "      <td>7</td>\n",
       "      <td>1</td>\n",
       "      <td>197</td>\n",
       "      <td>157|250</td>\n",
       "      <td>0</td>\n",
       "      <td>0</td>\n",
       "      <td>0</td>\n",
       "      <td>51</td>\n",
       "      <td>5</td>\n",
       "      <td>8</td>\n",
       "      <td>0</td>\n",
       "      <td>Ch</td>\n",
       "      <td>NO</td>\n",
       "      <td>[0049-4110, 68071-1701]</td>\n",
       "      <td>[Glipizide, Human Insulin]</td>\n",
       "      <td>0.0</td>\n",
       "      <td>0.0</td>\n",
       "      <td>1.0</td>\n",
       "      <td>0.0</td>\n",
       "      <td>0.0</td>\n",
       "      <td>0.0</td>\n",
       "      <td>0.0</td>\n",
       "      <td>0.0</td>\n",
       "      <td>1.0</td>\n",
       "      <td>0.0</td>\n",
       "      <td>0.0</td>\n",
       "      <td>0.0</td>\n",
       "      <td>0.0</td>\n",
       "      <td>0.0</td>\n",
       "      <td>0.0</td>\n",
       "      <td>0.0</td>\n",
       "      <td>0.0</td>\n",
       "      <td>0.0</td>\n",
       "      <td>0.0</td>\n",
       "      <td>0.0</td>\n",
       "      <td>0.0</td>\n",
       "    </tr>\n",
       "    <tr>\n",
       "      <th>3</th>\n",
       "      <td>28236</td>\n",
       "      <td>89869032</td>\n",
       "      <td>AfricanAmerican</td>\n",
       "      <td>Female</td>\n",
       "      <td>[40-50)</td>\n",
       "      <td>1</td>\n",
       "      <td>1</td>\n",
       "      <td>7</td>\n",
       "      <td>9</td>\n",
       "      <td>250.7</td>\n",
       "      <td>403|996</td>\n",
       "      <td>0</td>\n",
       "      <td>0</td>\n",
       "      <td>0</td>\n",
       "      <td>47</td>\n",
       "      <td>9</td>\n",
       "      <td>17</td>\n",
       "      <td>2</td>\n",
       "      <td>No</td>\n",
       "      <td>&gt;30</td>\n",
       "      <td>[68071-1701]</td>\n",
       "      <td>[Human Insulin]</td>\n",
       "      <td>0.0</td>\n",
       "      <td>0.0</td>\n",
       "      <td>0.0</td>\n",
       "      <td>0.0</td>\n",
       "      <td>0.0</td>\n",
       "      <td>0.0</td>\n",
       "      <td>0.0</td>\n",
       "      <td>0.0</td>\n",
       "      <td>1.0</td>\n",
       "      <td>0.0</td>\n",
       "      <td>0.0</td>\n",
       "      <td>0.0</td>\n",
       "      <td>0.0</td>\n",
       "      <td>0.0</td>\n",
       "      <td>0.0</td>\n",
       "      <td>0.0</td>\n",
       "      <td>0.0</td>\n",
       "      <td>0.0</td>\n",
       "      <td>0.0</td>\n",
       "      <td>0.0</td>\n",
       "      <td>0.0</td>\n",
       "    </tr>\n",
       "    <tr>\n",
       "      <th>4</th>\n",
       "      <td>35754</td>\n",
       "      <td>82637451</td>\n",
       "      <td>Caucasian</td>\n",
       "      <td>Male</td>\n",
       "      <td>[50-60)</td>\n",
       "      <td>2</td>\n",
       "      <td>1</td>\n",
       "      <td>2</td>\n",
       "      <td>3</td>\n",
       "      <td>414</td>\n",
       "      <td>411|250</td>\n",
       "      <td>0</td>\n",
       "      <td>0</td>\n",
       "      <td>0</td>\n",
       "      <td>31</td>\n",
       "      <td>9</td>\n",
       "      <td>16</td>\n",
       "      <td>6</td>\n",
       "      <td>No</td>\n",
       "      <td>&gt;30</td>\n",
       "      <td>[47918-902]</td>\n",
       "      <td>[Insulin Human]</td>\n",
       "      <td>0.0</td>\n",
       "      <td>0.0</td>\n",
       "      <td>0.0</td>\n",
       "      <td>0.0</td>\n",
       "      <td>0.0</td>\n",
       "      <td>0.0</td>\n",
       "      <td>0.0</td>\n",
       "      <td>0.0</td>\n",
       "      <td>0.0</td>\n",
       "      <td>1.0</td>\n",
       "      <td>0.0</td>\n",
       "      <td>0.0</td>\n",
       "      <td>0.0</td>\n",
       "      <td>0.0</td>\n",
       "      <td>0.0</td>\n",
       "      <td>0.0</td>\n",
       "      <td>0.0</td>\n",
       "      <td>0.0</td>\n",
       "      <td>0.0</td>\n",
       "      <td>0.0</td>\n",
       "      <td>0.0</td>\n",
       "    </tr>\n",
       "  </tbody>\n",
       "</table>\n",
       "</div>"
      ],
      "text/plain": [
       "   encounter_id  patient_nbr             race  gender       age  \\\n",
       "0         12522     48330783        Caucasian  Female   [80-90)   \n",
       "1         15738     63555939        Caucasian  Female  [90-100)   \n",
       "2         16680     42519267        Caucasian    Male   [40-50)   \n",
       "3         28236     89869032  AfricanAmerican  Female   [40-50)   \n",
       "4         35754     82637451        Caucasian    Male   [50-60)   \n",
       "\n",
       "   admission_type_id  discharge_disposition_id  admission_source_id  \\\n",
       "0                  2                         1                    4   \n",
       "1                  3                         3                    4   \n",
       "2                  1                         1                    7   \n",
       "3                  1                         1                    7   \n",
       "4                  2                         1                    2   \n",
       "\n",
       "   time_in_hospital primary_diagnosis_code other_diagnosis_codes  \\\n",
       "0                13                    398                427|38   \n",
       "1                12                    434               198|486   \n",
       "2                 1                    197               157|250   \n",
       "3                 9                  250.7               403|996   \n",
       "4                 3                    414               411|250   \n",
       "\n",
       "   number_outpatient  number_inpatient  number_emergency  num_lab_procedures  \\\n",
       "0                  0                 0                 0                  68   \n",
       "1                  0                 0                 0                  33   \n",
       "2                  0                 0                 0                  51   \n",
       "3                  0                 0                 0                  47   \n",
       "4                  0                 0                 0                  31   \n",
       "\n",
       "   number_diagnoses  num_medications  num_procedures change readmitted  \\\n",
       "0                 8               28               2     Ch         NO   \n",
       "1                 8               18               3     Ch         NO   \n",
       "2                 5                8               0     Ch         NO   \n",
       "3                 9               17               2     No        >30   \n",
       "4                 9               16               6     No        >30   \n",
       "\n",
       "                  ndc_code                       generic_drug_name  Acarbose  \\\n",
       "0   [47918-902, 0049-4110]              [Insulin Human, Glipizide]       0.0   \n",
       "1  [0173-0863, 68071-1701]  [Rosiglitazone Maleate, Human Insulin]       0.0   \n",
       "2  [0049-4110, 68071-1701]              [Glipizide, Human Insulin]       0.0   \n",
       "3             [68071-1701]                         [Human Insulin]       0.0   \n",
       "4              [47918-902]                         [Insulin Human]       0.0   \n",
       "\n",
       "   Glimepiride  Glipizide  Glipizide_And_Metformin_Hcl  \\\n",
       "0          0.0        1.0                          0.0   \n",
       "1          0.0        0.0                          0.0   \n",
       "2          0.0        1.0                          0.0   \n",
       "3          0.0        0.0                          0.0   \n",
       "4          0.0        0.0                          0.0   \n",
       "\n",
       "   Glipizide_And_Metformin_Hydrochloride  Glyburide  \\\n",
       "0                                    0.0        0.0   \n",
       "1                                    0.0        0.0   \n",
       "2                                    0.0        0.0   \n",
       "3                                    0.0        0.0   \n",
       "4                                    0.0        0.0   \n",
       "\n",
       "   Glyburide_And_Metformin_Hydrochloride  Glyburide-metformin_Hydrochloride  \\\n",
       "0                                    0.0                                0.0   \n",
       "1                                    0.0                                0.0   \n",
       "2                                    0.0                                0.0   \n",
       "3                                    0.0                                0.0   \n",
       "4                                    0.0                                0.0   \n",
       "\n",
       "   Human_Insulin  Insulin_Human  Metformin_Hcl  Metformin_Hydrochloride  \\\n",
       "0            0.0            1.0            0.0                      0.0   \n",
       "1            1.0            0.0            0.0                      0.0   \n",
       "2            1.0            0.0            0.0                      0.0   \n",
       "3            1.0            0.0            0.0                      0.0   \n",
       "4            0.0            1.0            0.0                      0.0   \n",
       "\n",
       "   Miglitol  Nateglinide  Pioglitazole_And_Metformin_Hydrochloride  \\\n",
       "0       0.0          0.0                                       0.0   \n",
       "1       0.0          0.0                                       0.0   \n",
       "2       0.0          0.0                                       0.0   \n",
       "3       0.0          0.0                                       0.0   \n",
       "4       0.0          0.0                                       0.0   \n",
       "\n",
       "   Pioglitazone  Pioglitazone_Hydrochloride_And_Glimepiride  Repaglinide  \\\n",
       "0           0.0                                         0.0          0.0   \n",
       "1           0.0                                         0.0          0.0   \n",
       "2           0.0                                         0.0          0.0   \n",
       "3           0.0                                         0.0          0.0   \n",
       "4           0.0                                         0.0          0.0   \n",
       "\n",
       "   Rosiglitazone_Maleate  Tolazamide  Tolbutamide  \n",
       "0                    0.0         0.0          0.0  \n",
       "1                    1.0         0.0          0.0  \n",
       "2                    0.0         0.0          0.0  \n",
       "3                    0.0         0.0          0.0  \n",
       "4                    0.0         0.0          0.0  "
      ]
     },
     "execution_count": 47,
     "metadata": {},
     "output_type": "execute_result"
    }
   ],
   "source": [
    "agg_drug_df.head()"
   ]
  },
  {
   "cell_type": "markdown",
   "metadata": {},
   "source": [
    "## Prepare Fields and Cast Dataset "
   ]
  },
  {
   "cell_type": "markdown",
   "metadata": {},
   "source": [
    "### Feature Selection"
   ]
  },
  {
   "cell_type": "markdown",
   "metadata": {},
   "source": [
    "- **We should exclude payer_code and weight fields** \n",
    "- **Why?** Because they have a high number of null values. 97% of weights are null in the dataset, and for 37% of payer_codes are null."
   ]
  },
  {
   "cell_type": "code",
   "execution_count": 48,
   "metadata": {},
   "outputs": [],
   "source": [
    "'''\n",
    "Please update the list to include the features you think are appropriate for the model \n",
    "and the field that we will be using to train the model. There are three required demographic features for the model \n",
    "and I have inserted a list with them already in the categorical list. \n",
    "These will be required for later steps when analyzing data splits and model biases.\n",
    "'''\n",
    "required_demo_col_list = ['race', 'gender', 'age', 'admission_type_id','discharge_disposition_id','admission_source_id','primary_diagnosis_code','change','readmitted']\n",
    "student_categorical_col_list = required_demo_col_list + ndc_col_list\n",
    "student_numerical_col_list = [ \"num_lab_procedures\", \"num_medications\" ]\n",
    "PREDICTOR_FIELD = 'time_in_hospital'"
   ]
  },
  {
   "cell_type": "code",
   "execution_count": 49,
   "metadata": {},
   "outputs": [],
   "source": [
    "def select_model_features(df, categorical_col_list, numerical_col_list, PREDICTOR_FIELD, grouping_key='patient_nbr'):\n",
    "    selected_col_list = [grouping_key] + [PREDICTOR_FIELD] + categorical_col_list + numerical_col_list   \n",
    "    return agg_drug_df[selected_col_list]\n"
   ]
  },
  {
   "cell_type": "code",
   "execution_count": 50,
   "metadata": {},
   "outputs": [],
   "source": [
    "selected_features_df = select_model_features(agg_drug_df, student_categorical_col_list, student_numerical_col_list,\n",
    "                                            PREDICTOR_FIELD)"
   ]
  },
  {
   "cell_type": "code",
   "execution_count": 51,
   "metadata": {},
   "outputs": [
    {
     "data": {
      "text/html": [
       "<div>\n",
       "<style scoped>\n",
       "    .dataframe tbody tr th:only-of-type {\n",
       "        vertical-align: middle;\n",
       "    }\n",
       "\n",
       "    .dataframe tbody tr th {\n",
       "        vertical-align: top;\n",
       "    }\n",
       "\n",
       "    .dataframe thead th {\n",
       "        text-align: right;\n",
       "    }\n",
       "</style>\n",
       "<table border=\"1\" class=\"dataframe\">\n",
       "  <thead>\n",
       "    <tr style=\"text-align: right;\">\n",
       "      <th></th>\n",
       "      <th>patient_nbr</th>\n",
       "      <th>time_in_hospital</th>\n",
       "      <th>race</th>\n",
       "      <th>gender</th>\n",
       "      <th>age</th>\n",
       "      <th>admission_type_id</th>\n",
       "      <th>discharge_disposition_id</th>\n",
       "      <th>admission_source_id</th>\n",
       "      <th>primary_diagnosis_code</th>\n",
       "      <th>change</th>\n",
       "      <th>readmitted</th>\n",
       "      <th>Acarbose</th>\n",
       "      <th>Glimepiride</th>\n",
       "      <th>Glipizide</th>\n",
       "      <th>Glipizide_And_Metformin_Hcl</th>\n",
       "      <th>Glipizide_And_Metformin_Hydrochloride</th>\n",
       "      <th>Glyburide</th>\n",
       "      <th>Glyburide_And_Metformin_Hydrochloride</th>\n",
       "      <th>Glyburide-metformin_Hydrochloride</th>\n",
       "      <th>Human_Insulin</th>\n",
       "      <th>Insulin_Human</th>\n",
       "      <th>Metformin_Hcl</th>\n",
       "      <th>Metformin_Hydrochloride</th>\n",
       "      <th>Miglitol</th>\n",
       "      <th>Nateglinide</th>\n",
       "      <th>Pioglitazole_And_Metformin_Hydrochloride</th>\n",
       "      <th>Pioglitazone</th>\n",
       "      <th>Pioglitazone_Hydrochloride_And_Glimepiride</th>\n",
       "      <th>Repaglinide</th>\n",
       "      <th>Rosiglitazone_Maleate</th>\n",
       "      <th>Tolazamide</th>\n",
       "      <th>Tolbutamide</th>\n",
       "      <th>num_lab_procedures</th>\n",
       "      <th>num_medications</th>\n",
       "    </tr>\n",
       "  </thead>\n",
       "  <tbody>\n",
       "    <tr>\n",
       "      <th>0</th>\n",
       "      <td>48330783</td>\n",
       "      <td>13</td>\n",
       "      <td>Caucasian</td>\n",
       "      <td>Female</td>\n",
       "      <td>[80-90)</td>\n",
       "      <td>2</td>\n",
       "      <td>1</td>\n",
       "      <td>4</td>\n",
       "      <td>398</td>\n",
       "      <td>Ch</td>\n",
       "      <td>NO</td>\n",
       "      <td>0.0</td>\n",
       "      <td>0.0</td>\n",
       "      <td>1.0</td>\n",
       "      <td>0.0</td>\n",
       "      <td>0.0</td>\n",
       "      <td>0.0</td>\n",
       "      <td>0.0</td>\n",
       "      <td>0.0</td>\n",
       "      <td>0.0</td>\n",
       "      <td>1.0</td>\n",
       "      <td>0.0</td>\n",
       "      <td>0.0</td>\n",
       "      <td>0.0</td>\n",
       "      <td>0.0</td>\n",
       "      <td>0.0</td>\n",
       "      <td>0.0</td>\n",
       "      <td>0.0</td>\n",
       "      <td>0.0</td>\n",
       "      <td>0.0</td>\n",
       "      <td>0.0</td>\n",
       "      <td>0.0</td>\n",
       "      <td>68</td>\n",
       "      <td>28</td>\n",
       "    </tr>\n",
       "    <tr>\n",
       "      <th>1</th>\n",
       "      <td>63555939</td>\n",
       "      <td>12</td>\n",
       "      <td>Caucasian</td>\n",
       "      <td>Female</td>\n",
       "      <td>[90-100)</td>\n",
       "      <td>3</td>\n",
       "      <td>3</td>\n",
       "      <td>4</td>\n",
       "      <td>434</td>\n",
       "      <td>Ch</td>\n",
       "      <td>NO</td>\n",
       "      <td>0.0</td>\n",
       "      <td>0.0</td>\n",
       "      <td>0.0</td>\n",
       "      <td>0.0</td>\n",
       "      <td>0.0</td>\n",
       "      <td>0.0</td>\n",
       "      <td>0.0</td>\n",
       "      <td>0.0</td>\n",
       "      <td>1.0</td>\n",
       "      <td>0.0</td>\n",
       "      <td>0.0</td>\n",
       "      <td>0.0</td>\n",
       "      <td>0.0</td>\n",
       "      <td>0.0</td>\n",
       "      <td>0.0</td>\n",
       "      <td>0.0</td>\n",
       "      <td>0.0</td>\n",
       "      <td>0.0</td>\n",
       "      <td>1.0</td>\n",
       "      <td>0.0</td>\n",
       "      <td>0.0</td>\n",
       "      <td>33</td>\n",
       "      <td>18</td>\n",
       "    </tr>\n",
       "    <tr>\n",
       "      <th>2</th>\n",
       "      <td>42519267</td>\n",
       "      <td>1</td>\n",
       "      <td>Caucasian</td>\n",
       "      <td>Male</td>\n",
       "      <td>[40-50)</td>\n",
       "      <td>1</td>\n",
       "      <td>1</td>\n",
       "      <td>7</td>\n",
       "      <td>197</td>\n",
       "      <td>Ch</td>\n",
       "      <td>NO</td>\n",
       "      <td>0.0</td>\n",
       "      <td>0.0</td>\n",
       "      <td>1.0</td>\n",
       "      <td>0.0</td>\n",
       "      <td>0.0</td>\n",
       "      <td>0.0</td>\n",
       "      <td>0.0</td>\n",
       "      <td>0.0</td>\n",
       "      <td>1.0</td>\n",
       "      <td>0.0</td>\n",
       "      <td>0.0</td>\n",
       "      <td>0.0</td>\n",
       "      <td>0.0</td>\n",
       "      <td>0.0</td>\n",
       "      <td>0.0</td>\n",
       "      <td>0.0</td>\n",
       "      <td>0.0</td>\n",
       "      <td>0.0</td>\n",
       "      <td>0.0</td>\n",
       "      <td>0.0</td>\n",
       "      <td>0.0</td>\n",
       "      <td>51</td>\n",
       "      <td>8</td>\n",
       "    </tr>\n",
       "    <tr>\n",
       "      <th>3</th>\n",
       "      <td>89869032</td>\n",
       "      <td>9</td>\n",
       "      <td>AfricanAmerican</td>\n",
       "      <td>Female</td>\n",
       "      <td>[40-50)</td>\n",
       "      <td>1</td>\n",
       "      <td>1</td>\n",
       "      <td>7</td>\n",
       "      <td>250.7</td>\n",
       "      <td>No</td>\n",
       "      <td>&gt;30</td>\n",
       "      <td>0.0</td>\n",
       "      <td>0.0</td>\n",
       "      <td>0.0</td>\n",
       "      <td>0.0</td>\n",
       "      <td>0.0</td>\n",
       "      <td>0.0</td>\n",
       "      <td>0.0</td>\n",
       "      <td>0.0</td>\n",
       "      <td>1.0</td>\n",
       "      <td>0.0</td>\n",
       "      <td>0.0</td>\n",
       "      <td>0.0</td>\n",
       "      <td>0.0</td>\n",
       "      <td>0.0</td>\n",
       "      <td>0.0</td>\n",
       "      <td>0.0</td>\n",
       "      <td>0.0</td>\n",
       "      <td>0.0</td>\n",
       "      <td>0.0</td>\n",
       "      <td>0.0</td>\n",
       "      <td>0.0</td>\n",
       "      <td>47</td>\n",
       "      <td>17</td>\n",
       "    </tr>\n",
       "    <tr>\n",
       "      <th>4</th>\n",
       "      <td>82637451</td>\n",
       "      <td>3</td>\n",
       "      <td>Caucasian</td>\n",
       "      <td>Male</td>\n",
       "      <td>[50-60)</td>\n",
       "      <td>2</td>\n",
       "      <td>1</td>\n",
       "      <td>2</td>\n",
       "      <td>414</td>\n",
       "      <td>No</td>\n",
       "      <td>&gt;30</td>\n",
       "      <td>0.0</td>\n",
       "      <td>0.0</td>\n",
       "      <td>0.0</td>\n",
       "      <td>0.0</td>\n",
       "      <td>0.0</td>\n",
       "      <td>0.0</td>\n",
       "      <td>0.0</td>\n",
       "      <td>0.0</td>\n",
       "      <td>0.0</td>\n",
       "      <td>1.0</td>\n",
       "      <td>0.0</td>\n",
       "      <td>0.0</td>\n",
       "      <td>0.0</td>\n",
       "      <td>0.0</td>\n",
       "      <td>0.0</td>\n",
       "      <td>0.0</td>\n",
       "      <td>0.0</td>\n",
       "      <td>0.0</td>\n",
       "      <td>0.0</td>\n",
       "      <td>0.0</td>\n",
       "      <td>0.0</td>\n",
       "      <td>31</td>\n",
       "      <td>16</td>\n",
       "    </tr>\n",
       "  </tbody>\n",
       "</table>\n",
       "</div>"
      ],
      "text/plain": [
       "   patient_nbr  time_in_hospital             race  gender       age  \\\n",
       "0     48330783                13        Caucasian  Female   [80-90)   \n",
       "1     63555939                12        Caucasian  Female  [90-100)   \n",
       "2     42519267                 1        Caucasian    Male   [40-50)   \n",
       "3     89869032                 9  AfricanAmerican  Female   [40-50)   \n",
       "4     82637451                 3        Caucasian    Male   [50-60)   \n",
       "\n",
       "   admission_type_id  discharge_disposition_id  admission_source_id  \\\n",
       "0                  2                         1                    4   \n",
       "1                  3                         3                    4   \n",
       "2                  1                         1                    7   \n",
       "3                  1                         1                    7   \n",
       "4                  2                         1                    2   \n",
       "\n",
       "  primary_diagnosis_code change readmitted  Acarbose  Glimepiride  Glipizide  \\\n",
       "0                    398     Ch         NO       0.0          0.0        1.0   \n",
       "1                    434     Ch         NO       0.0          0.0        0.0   \n",
       "2                    197     Ch         NO       0.0          0.0        1.0   \n",
       "3                  250.7     No        >30       0.0          0.0        0.0   \n",
       "4                    414     No        >30       0.0          0.0        0.0   \n",
       "\n",
       "   Glipizide_And_Metformin_Hcl  Glipizide_And_Metformin_Hydrochloride  \\\n",
       "0                          0.0                                    0.0   \n",
       "1                          0.0                                    0.0   \n",
       "2                          0.0                                    0.0   \n",
       "3                          0.0                                    0.0   \n",
       "4                          0.0                                    0.0   \n",
       "\n",
       "   Glyburide  Glyburide_And_Metformin_Hydrochloride  \\\n",
       "0        0.0                                    0.0   \n",
       "1        0.0                                    0.0   \n",
       "2        0.0                                    0.0   \n",
       "3        0.0                                    0.0   \n",
       "4        0.0                                    0.0   \n",
       "\n",
       "   Glyburide-metformin_Hydrochloride  Human_Insulin  Insulin_Human  \\\n",
       "0                                0.0            0.0            1.0   \n",
       "1                                0.0            1.0            0.0   \n",
       "2                                0.0            1.0            0.0   \n",
       "3                                0.0            1.0            0.0   \n",
       "4                                0.0            0.0            1.0   \n",
       "\n",
       "   Metformin_Hcl  Metformin_Hydrochloride  Miglitol  Nateglinide  \\\n",
       "0            0.0                      0.0       0.0          0.0   \n",
       "1            0.0                      0.0       0.0          0.0   \n",
       "2            0.0                      0.0       0.0          0.0   \n",
       "3            0.0                      0.0       0.0          0.0   \n",
       "4            0.0                      0.0       0.0          0.0   \n",
       "\n",
       "   Pioglitazole_And_Metformin_Hydrochloride  Pioglitazone  \\\n",
       "0                                       0.0           0.0   \n",
       "1                                       0.0           0.0   \n",
       "2                                       0.0           0.0   \n",
       "3                                       0.0           0.0   \n",
       "4                                       0.0           0.0   \n",
       "\n",
       "   Pioglitazone_Hydrochloride_And_Glimepiride  Repaglinide  \\\n",
       "0                                         0.0          0.0   \n",
       "1                                         0.0          0.0   \n",
       "2                                         0.0          0.0   \n",
       "3                                         0.0          0.0   \n",
       "4                                         0.0          0.0   \n",
       "\n",
       "   Rosiglitazone_Maleate  Tolazamide  Tolbutamide  num_lab_procedures  \\\n",
       "0                    0.0         0.0          0.0                  68   \n",
       "1                    1.0         0.0          0.0                  33   \n",
       "2                    0.0         0.0          0.0                  51   \n",
       "3                    0.0         0.0          0.0                  47   \n",
       "4                    0.0         0.0          0.0                  31   \n",
       "\n",
       "   num_medications  \n",
       "0               28  \n",
       "1               18  \n",
       "2                8  \n",
       "3               17  \n",
       "4               16  "
      ]
     },
     "execution_count": 51,
     "metadata": {},
     "output_type": "execute_result"
    }
   ],
   "source": [
    "selected_features_df.head()"
   ]
  },
  {
   "cell_type": "markdown",
   "metadata": {},
   "source": [
    "### Preprocess Dataset - Casting and Imputing  "
   ]
  },
  {
   "cell_type": "markdown",
   "metadata": {},
   "source": [
    "We will cast and impute the dataset before splitting so that we do not have to repeat these steps across the splits in the next step. For imputing, there can be deeper analysis into which features to impute and how to impute but for the sake of time, we are taking a general strategy of imputing zero for only numerical features. "
   ]
  },
  {
   "cell_type": "code",
   "execution_count": 52,
   "metadata": {},
   "outputs": [
    {
     "name": "stderr",
     "output_type": "stream",
     "text": [
      "/home/workspace/starter_code/utils.py:35: SettingWithCopyWarning: \n",
      "A value is trying to be set on a copy of a slice from a DataFrame.\n",
      "Try using .loc[row_indexer,col_indexer] = value instead\n",
      "\n",
      "See the caveats in the documentation: https://pandas.pydata.org/pandas-docs/stable/user_guide/indexing.html#returning-a-view-versus-a-copy\n",
      "  df[predictor] = df[predictor].astype(float)\n",
      "/home/workspace/starter_code/utils.py:37: SettingWithCopyWarning: \n",
      "A value is trying to be set on a copy of a slice from a DataFrame.\n",
      "Try using .loc[row_indexer,col_indexer] = value instead\n",
      "\n",
      "See the caveats in the documentation: https://pandas.pydata.org/pandas-docs/stable/user_guide/indexing.html#returning-a-view-versus-a-copy\n",
      "  df[c] = cast_df(df, c, d_type=str)\n",
      "/home/workspace/starter_code/utils.py:39: SettingWithCopyWarning: \n",
      "A value is trying to be set on a copy of a slice from a DataFrame.\n",
      "Try using .loc[row_indexer,col_indexer] = value instead\n",
      "\n",
      "See the caveats in the documentation: https://pandas.pydata.org/pandas-docs/stable/user_guide/indexing.html#returning-a-view-versus-a-copy\n",
      "  df[numerical_column] = impute_df(df, numerical_column, numerical_impute_value)\n"
     ]
    }
   ],
   "source": [
    "processed_df = preprocess_df(selected_features_df, student_categorical_col_list, \n",
    "        student_numerical_col_list, PREDICTOR_FIELD, categorical_impute_value='nan', numerical_impute_value=0)"
   ]
  },
  {
   "cell_type": "code",
   "execution_count": 53,
   "metadata": {},
   "outputs": [
    {
     "data": {
      "text/html": [
       "<div>\n",
       "<style scoped>\n",
       "    .dataframe tbody tr th:only-of-type {\n",
       "        vertical-align: middle;\n",
       "    }\n",
       "\n",
       "    .dataframe tbody tr th {\n",
       "        vertical-align: top;\n",
       "    }\n",
       "\n",
       "    .dataframe thead th {\n",
       "        text-align: right;\n",
       "    }\n",
       "</style>\n",
       "<table border=\"1\" class=\"dataframe\">\n",
       "  <thead>\n",
       "    <tr style=\"text-align: right;\">\n",
       "      <th></th>\n",
       "      <th>patient_nbr</th>\n",
       "      <th>time_in_hospital</th>\n",
       "      <th>race</th>\n",
       "      <th>gender</th>\n",
       "      <th>age</th>\n",
       "      <th>admission_type_id</th>\n",
       "      <th>discharge_disposition_id</th>\n",
       "      <th>admission_source_id</th>\n",
       "      <th>primary_diagnosis_code</th>\n",
       "      <th>change</th>\n",
       "      <th>readmitted</th>\n",
       "      <th>Acarbose</th>\n",
       "      <th>Glimepiride</th>\n",
       "      <th>Glipizide</th>\n",
       "      <th>Glipizide_And_Metformin_Hcl</th>\n",
       "      <th>Glipizide_And_Metformin_Hydrochloride</th>\n",
       "      <th>Glyburide</th>\n",
       "      <th>Glyburide_And_Metformin_Hydrochloride</th>\n",
       "      <th>Glyburide-metformin_Hydrochloride</th>\n",
       "      <th>Human_Insulin</th>\n",
       "      <th>Insulin_Human</th>\n",
       "      <th>Metformin_Hcl</th>\n",
       "      <th>Metformin_Hydrochloride</th>\n",
       "      <th>Miglitol</th>\n",
       "      <th>Nateglinide</th>\n",
       "      <th>Pioglitazole_And_Metformin_Hydrochloride</th>\n",
       "      <th>Pioglitazone</th>\n",
       "      <th>Pioglitazone_Hydrochloride_And_Glimepiride</th>\n",
       "      <th>Repaglinide</th>\n",
       "      <th>Rosiglitazone_Maleate</th>\n",
       "      <th>Tolazamide</th>\n",
       "      <th>Tolbutamide</th>\n",
       "      <th>num_lab_procedures</th>\n",
       "      <th>num_medications</th>\n",
       "    </tr>\n",
       "  </thead>\n",
       "  <tbody>\n",
       "    <tr>\n",
       "      <th>0</th>\n",
       "      <td>48330783</td>\n",
       "      <td>13.0</td>\n",
       "      <td>Caucasian</td>\n",
       "      <td>Female</td>\n",
       "      <td>[80-90)</td>\n",
       "      <td>2</td>\n",
       "      <td>1</td>\n",
       "      <td>4</td>\n",
       "      <td>398</td>\n",
       "      <td>Ch</td>\n",
       "      <td>NO</td>\n",
       "      <td>0.0</td>\n",
       "      <td>0.0</td>\n",
       "      <td>1.0</td>\n",
       "      <td>0.0</td>\n",
       "      <td>0.0</td>\n",
       "      <td>0.0</td>\n",
       "      <td>0.0</td>\n",
       "      <td>0.0</td>\n",
       "      <td>0.0</td>\n",
       "      <td>1.0</td>\n",
       "      <td>0.0</td>\n",
       "      <td>0.0</td>\n",
       "      <td>0.0</td>\n",
       "      <td>0.0</td>\n",
       "      <td>0.0</td>\n",
       "      <td>0.0</td>\n",
       "      <td>0.0</td>\n",
       "      <td>0.0</td>\n",
       "      <td>0.0</td>\n",
       "      <td>0.0</td>\n",
       "      <td>0.0</td>\n",
       "      <td>68</td>\n",
       "      <td>28</td>\n",
       "    </tr>\n",
       "    <tr>\n",
       "      <th>1</th>\n",
       "      <td>63555939</td>\n",
       "      <td>12.0</td>\n",
       "      <td>Caucasian</td>\n",
       "      <td>Female</td>\n",
       "      <td>[90-100)</td>\n",
       "      <td>3</td>\n",
       "      <td>3</td>\n",
       "      <td>4</td>\n",
       "      <td>434</td>\n",
       "      <td>Ch</td>\n",
       "      <td>NO</td>\n",
       "      <td>0.0</td>\n",
       "      <td>0.0</td>\n",
       "      <td>0.0</td>\n",
       "      <td>0.0</td>\n",
       "      <td>0.0</td>\n",
       "      <td>0.0</td>\n",
       "      <td>0.0</td>\n",
       "      <td>0.0</td>\n",
       "      <td>1.0</td>\n",
       "      <td>0.0</td>\n",
       "      <td>0.0</td>\n",
       "      <td>0.0</td>\n",
       "      <td>0.0</td>\n",
       "      <td>0.0</td>\n",
       "      <td>0.0</td>\n",
       "      <td>0.0</td>\n",
       "      <td>0.0</td>\n",
       "      <td>0.0</td>\n",
       "      <td>1.0</td>\n",
       "      <td>0.0</td>\n",
       "      <td>0.0</td>\n",
       "      <td>33</td>\n",
       "      <td>18</td>\n",
       "    </tr>\n",
       "    <tr>\n",
       "      <th>2</th>\n",
       "      <td>42519267</td>\n",
       "      <td>1.0</td>\n",
       "      <td>Caucasian</td>\n",
       "      <td>Male</td>\n",
       "      <td>[40-50)</td>\n",
       "      <td>1</td>\n",
       "      <td>1</td>\n",
       "      <td>7</td>\n",
       "      <td>197</td>\n",
       "      <td>Ch</td>\n",
       "      <td>NO</td>\n",
       "      <td>0.0</td>\n",
       "      <td>0.0</td>\n",
       "      <td>1.0</td>\n",
       "      <td>0.0</td>\n",
       "      <td>0.0</td>\n",
       "      <td>0.0</td>\n",
       "      <td>0.0</td>\n",
       "      <td>0.0</td>\n",
       "      <td>1.0</td>\n",
       "      <td>0.0</td>\n",
       "      <td>0.0</td>\n",
       "      <td>0.0</td>\n",
       "      <td>0.0</td>\n",
       "      <td>0.0</td>\n",
       "      <td>0.0</td>\n",
       "      <td>0.0</td>\n",
       "      <td>0.0</td>\n",
       "      <td>0.0</td>\n",
       "      <td>0.0</td>\n",
       "      <td>0.0</td>\n",
       "      <td>0.0</td>\n",
       "      <td>51</td>\n",
       "      <td>8</td>\n",
       "    </tr>\n",
       "    <tr>\n",
       "      <th>3</th>\n",
       "      <td>89869032</td>\n",
       "      <td>9.0</td>\n",
       "      <td>AfricanAmerican</td>\n",
       "      <td>Female</td>\n",
       "      <td>[40-50)</td>\n",
       "      <td>1</td>\n",
       "      <td>1</td>\n",
       "      <td>7</td>\n",
       "      <td>250.7</td>\n",
       "      <td>No</td>\n",
       "      <td>&gt;30</td>\n",
       "      <td>0.0</td>\n",
       "      <td>0.0</td>\n",
       "      <td>0.0</td>\n",
       "      <td>0.0</td>\n",
       "      <td>0.0</td>\n",
       "      <td>0.0</td>\n",
       "      <td>0.0</td>\n",
       "      <td>0.0</td>\n",
       "      <td>1.0</td>\n",
       "      <td>0.0</td>\n",
       "      <td>0.0</td>\n",
       "      <td>0.0</td>\n",
       "      <td>0.0</td>\n",
       "      <td>0.0</td>\n",
       "      <td>0.0</td>\n",
       "      <td>0.0</td>\n",
       "      <td>0.0</td>\n",
       "      <td>0.0</td>\n",
       "      <td>0.0</td>\n",
       "      <td>0.0</td>\n",
       "      <td>0.0</td>\n",
       "      <td>47</td>\n",
       "      <td>17</td>\n",
       "    </tr>\n",
       "    <tr>\n",
       "      <th>4</th>\n",
       "      <td>82637451</td>\n",
       "      <td>3.0</td>\n",
       "      <td>Caucasian</td>\n",
       "      <td>Male</td>\n",
       "      <td>[50-60)</td>\n",
       "      <td>2</td>\n",
       "      <td>1</td>\n",
       "      <td>2</td>\n",
       "      <td>414</td>\n",
       "      <td>No</td>\n",
       "      <td>&gt;30</td>\n",
       "      <td>0.0</td>\n",
       "      <td>0.0</td>\n",
       "      <td>0.0</td>\n",
       "      <td>0.0</td>\n",
       "      <td>0.0</td>\n",
       "      <td>0.0</td>\n",
       "      <td>0.0</td>\n",
       "      <td>0.0</td>\n",
       "      <td>0.0</td>\n",
       "      <td>1.0</td>\n",
       "      <td>0.0</td>\n",
       "      <td>0.0</td>\n",
       "      <td>0.0</td>\n",
       "      <td>0.0</td>\n",
       "      <td>0.0</td>\n",
       "      <td>0.0</td>\n",
       "      <td>0.0</td>\n",
       "      <td>0.0</td>\n",
       "      <td>0.0</td>\n",
       "      <td>0.0</td>\n",
       "      <td>0.0</td>\n",
       "      <td>31</td>\n",
       "      <td>16</td>\n",
       "    </tr>\n",
       "  </tbody>\n",
       "</table>\n",
       "</div>"
      ],
      "text/plain": [
       "   patient_nbr  time_in_hospital             race  gender       age  \\\n",
       "0     48330783              13.0        Caucasian  Female   [80-90)   \n",
       "1     63555939              12.0        Caucasian  Female  [90-100)   \n",
       "2     42519267               1.0        Caucasian    Male   [40-50)   \n",
       "3     89869032               9.0  AfricanAmerican  Female   [40-50)   \n",
       "4     82637451               3.0        Caucasian    Male   [50-60)   \n",
       "\n",
       "  admission_type_id discharge_disposition_id admission_source_id  \\\n",
       "0                 2                        1                   4   \n",
       "1                 3                        3                   4   \n",
       "2                 1                        1                   7   \n",
       "3                 1                        1                   7   \n",
       "4                 2                        1                   2   \n",
       "\n",
       "  primary_diagnosis_code change readmitted Acarbose Glimepiride Glipizide  \\\n",
       "0                    398     Ch         NO      0.0         0.0       1.0   \n",
       "1                    434     Ch         NO      0.0         0.0       0.0   \n",
       "2                    197     Ch         NO      0.0         0.0       1.0   \n",
       "3                  250.7     No        >30      0.0         0.0       0.0   \n",
       "4                    414     No        >30      0.0         0.0       0.0   \n",
       "\n",
       "  Glipizide_And_Metformin_Hcl Glipizide_And_Metformin_Hydrochloride Glyburide  \\\n",
       "0                         0.0                                   0.0       0.0   \n",
       "1                         0.0                                   0.0       0.0   \n",
       "2                         0.0                                   0.0       0.0   \n",
       "3                         0.0                                   0.0       0.0   \n",
       "4                         0.0                                   0.0       0.0   \n",
       "\n",
       "  Glyburide_And_Metformin_Hydrochloride Glyburide-metformin_Hydrochloride  \\\n",
       "0                                   0.0                               0.0   \n",
       "1                                   0.0                               0.0   \n",
       "2                                   0.0                               0.0   \n",
       "3                                   0.0                               0.0   \n",
       "4                                   0.0                               0.0   \n",
       "\n",
       "  Human_Insulin Insulin_Human Metformin_Hcl Metformin_Hydrochloride Miglitol  \\\n",
       "0           0.0           1.0           0.0                     0.0      0.0   \n",
       "1           1.0           0.0           0.0                     0.0      0.0   \n",
       "2           1.0           0.0           0.0                     0.0      0.0   \n",
       "3           1.0           0.0           0.0                     0.0      0.0   \n",
       "4           0.0           1.0           0.0                     0.0      0.0   \n",
       "\n",
       "  Nateglinide Pioglitazole_And_Metformin_Hydrochloride Pioglitazone  \\\n",
       "0         0.0                                      0.0          0.0   \n",
       "1         0.0                                      0.0          0.0   \n",
       "2         0.0                                      0.0          0.0   \n",
       "3         0.0                                      0.0          0.0   \n",
       "4         0.0                                      0.0          0.0   \n",
       "\n",
       "  Pioglitazone_Hydrochloride_And_Glimepiride Repaglinide  \\\n",
       "0                                        0.0         0.0   \n",
       "1                                        0.0         0.0   \n",
       "2                                        0.0         0.0   \n",
       "3                                        0.0         0.0   \n",
       "4                                        0.0         0.0   \n",
       "\n",
       "  Rosiglitazone_Maleate Tolazamide Tolbutamide  num_lab_procedures  \\\n",
       "0                   0.0        0.0         0.0                  68   \n",
       "1                   1.0        0.0         0.0                  33   \n",
       "2                   0.0        0.0         0.0                  51   \n",
       "3                   0.0        0.0         0.0                  47   \n",
       "4                   0.0        0.0         0.0                  31   \n",
       "\n",
       "   num_medications  \n",
       "0               28  \n",
       "1               18  \n",
       "2                8  \n",
       "3               17  \n",
       "4               16  "
      ]
     },
     "execution_count": 53,
     "metadata": {},
     "output_type": "execute_result"
    }
   ],
   "source": [
    "processed_df.head()"
   ]
  },
  {
   "cell_type": "markdown",
   "metadata": {},
   "source": [
    "## Split Dataset into Train, Validation, and Test Partitions"
   ]
  },
  {
   "cell_type": "markdown",
   "metadata": {},
   "source": [
    "- Approximately 60%/20%/20%  train/validation/test split\n",
    "- Randomly sample different patients into each data partition\n",
    "- **IMPORTANT** Make sure that a patient's data is not in more than one partition, so that we can avoid possible data leakage.\n",
    "- Make sure that the total number of unique patients across the splits is equal to the total number of unique patients in the original dataset\n",
    "- Total number of rows in original dataset = sum of rows across all three dataset partitions"
   ]
  },
  {
   "cell_type": "code",
   "execution_count": 54,
   "metadata": {},
   "outputs": [],
   "source": [
    "from student_utils import patient_dataset_splitter\n",
    "d_train, d_val, d_test = patient_dataset_splitter(processed_df, 'patient_nbr')"
   ]
  },
  {
   "cell_type": "code",
   "execution_count": 55,
   "metadata": {},
   "outputs": [
    {
     "name": "stdout",
     "output_type": "stream",
     "text": [
      "Test passed for number of total rows equal!\n"
     ]
    }
   ],
   "source": [
    "assert len(d_train) + len(d_val) + len(d_test) == len(processed_df)\n",
    "print(\"Test passed for number of total rows equal!\")"
   ]
  },
  {
   "cell_type": "code",
   "execution_count": 56,
   "metadata": {},
   "outputs": [
    {
     "name": "stdout",
     "output_type": "stream",
     "text": [
      "Test passed for number of unique patients being equal!\n"
     ]
    }
   ],
   "source": [
    "assert (d_train['patient_nbr'].nunique() + d_val['patient_nbr'].nunique() + d_test['patient_nbr'].nunique()) == agg_drug_df['patient_nbr'].nunique()\n",
    "print(\"Test passed for number of unique patients being equal!\")"
   ]
  },
  {
   "cell_type": "markdown",
   "metadata": {},
   "source": [
    "## Demographic Representation Analysis of Split"
   ]
  },
  {
   "cell_type": "markdown",
   "metadata": {},
   "source": [
    "After the split, we should check to see the distribution of key features/groups and make sure that there is representative samples across the partitions. The show_group_stats_viz function in the utils.py file can be used to group and visualize different groups and dataframe partitions."
   ]
  },
  {
   "cell_type": "markdown",
   "metadata": {},
   "source": [
    "### Label Distribution Across Partitions"
   ]
  },
  {
   "cell_type": "markdown",
   "metadata": {},
   "source": [
    "Below you can see the distributution of the label across your splits."
   ]
  },
  {
   "cell_type": "code",
   "execution_count": 57,
   "metadata": {},
   "outputs": [
    {
     "name": "stdout",
     "output_type": "stream",
     "text": [
      "time_in_hospital\n",
      "1.0     10379\n",
      "2.0     12004\n",
      "3.0     12309\n",
      "4.0      9294\n",
      "5.0      6662\n",
      "6.0      5028\n",
      "7.0      3890\n",
      "8.0      2852\n",
      "9.0      1940\n",
      "10.0     1520\n",
      "11.0     1209\n",
      "12.0      936\n",
      "13.0      776\n",
      "14.0      648\n",
      "dtype: int64\n",
      "AxesSubplot(0.125,0.125;0.775x0.755)\n"
     ]
    },
    {
     "data": {
      "image/png": "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\n",
      "text/plain": [
       "<Figure size 432x288 with 1 Axes>"
      ]
     },
     "metadata": {
      "needs_background": "light"
     },
     "output_type": "display_data"
    }
   ],
   "source": [
    "show_group_stats_viz(processed_df, PREDICTOR_FIELD)"
   ]
  },
  {
   "cell_type": "code",
   "execution_count": 58,
   "metadata": {},
   "outputs": [
    {
     "name": "stdout",
     "output_type": "stream",
     "text": [
      "time_in_hospital\n",
      "1.0     6203\n",
      "2.0     7175\n",
      "3.0     7420\n",
      "4.0     5512\n",
      "5.0     4105\n",
      "6.0     2982\n",
      "7.0     2351\n",
      "8.0     1693\n",
      "9.0     1183\n",
      "10.0     925\n",
      "11.0     702\n",
      "12.0     563\n",
      "13.0     469\n",
      "14.0     385\n",
      "dtype: int64\n",
      "AxesSubplot(0.125,0.125;0.775x0.755)\n"
     ]
    },
    {
     "data": {
      "image/png": "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\n",
      "text/plain": [
       "<Figure size 432x288 with 1 Axes>"
      ]
     },
     "metadata": {
      "needs_background": "light"
     },
     "output_type": "display_data"
    }
   ],
   "source": [
    "show_group_stats_viz(d_train, PREDICTOR_FIELD)"
   ]
  },
  {
   "cell_type": "code",
   "execution_count": 59,
   "metadata": {},
   "outputs": [
    {
     "name": "stdout",
     "output_type": "stream",
     "text": [
      "time_in_hospital\n",
      "1.0     2089\n",
      "2.0     2401\n",
      "3.0     2464\n",
      "4.0     1912\n",
      "5.0     1269\n",
      "6.0      989\n",
      "7.0      774\n",
      "8.0      573\n",
      "9.0      390\n",
      "10.0     295\n",
      "11.0     245\n",
      "12.0     190\n",
      "13.0     169\n",
      "14.0     129\n",
      "dtype: int64\n",
      "AxesSubplot(0.125,0.125;0.775x0.755)\n"
     ]
    },
    {
     "data": {
      "image/png": "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\n",
      "text/plain": [
       "<Figure size 432x288 with 1 Axes>"
      ]
     },
     "metadata": {
      "needs_background": "light"
     },
     "output_type": "display_data"
    }
   ],
   "source": [
    "show_group_stats_viz(d_test, PREDICTOR_FIELD)"
   ]
  },
  {
   "cell_type": "markdown",
   "metadata": {},
   "source": [
    "## Demographic Group Analysis"
   ]
  },
  {
   "cell_type": "markdown",
   "metadata": {},
   "source": [
    "We should check that our partitions/splits of the dataset are similar in terms of their demographic profiles. Below you can see how we might visualize and analyze the full dataset vs. the partitions."
   ]
  },
  {
   "cell_type": "code",
   "execution_count": 60,
   "metadata": {},
   "outputs": [
    {
     "name": "stdout",
     "output_type": "stream",
     "text": [
      "gender\n",
      "Female    36994\n",
      "Male      32453\n",
      "dtype: int64\n",
      "AxesSubplot(0.125,0.125;0.775x0.755)\n"
     ]
    },
    {
     "data": {
      "image/png": "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\n",
      "text/plain": [
       "<Figure size 432x288 with 1 Axes>"
      ]
     },
     "metadata": {
      "needs_background": "light"
     },
     "output_type": "display_data"
    }
   ],
   "source": [
    "# Full dataset before splitting\n",
    "patient_demo_features = ['race', 'gender', 'age', 'patient_nbr']\n",
    "patient_group_analysis_df = processed_df[patient_demo_features].groupby('patient_nbr').head(1).reset_index(drop=True)\n",
    "show_group_stats_viz(patient_group_analysis_df, 'gender')"
   ]
  },
  {
   "cell_type": "code",
   "execution_count": 61,
   "metadata": {},
   "outputs": [
    {
     "name": "stdout",
     "output_type": "stream",
     "text": [
      "gender\n",
      "Female    22183\n",
      "Male      19485\n",
      "dtype: int64\n",
      "AxesSubplot(0.125,0.125;0.775x0.755)\n"
     ]
    },
    {
     "data": {
      "image/png": "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\n",
      "text/plain": [
       "<Figure size 432x288 with 1 Axes>"
      ]
     },
     "metadata": {
      "needs_background": "light"
     },
     "output_type": "display_data"
    }
   ],
   "source": [
    "# Training partition\n",
    "show_group_stats_viz(d_train, 'gender')"
   ]
  },
  {
   "cell_type": "code",
   "execution_count": 62,
   "metadata": {},
   "outputs": [
    {
     "name": "stdout",
     "output_type": "stream",
     "text": [
      "gender\n",
      "Female    7388\n",
      "Male      6501\n",
      "dtype: int64\n",
      "AxesSubplot(0.125,0.125;0.775x0.755)\n"
     ]
    },
    {
     "data": {
      "image/png": "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\n",
      "text/plain": [
       "<Figure size 432x288 with 1 Axes>"
      ]
     },
     "metadata": {
      "needs_background": "light"
     },
     "output_type": "display_data"
    }
   ],
   "source": [
    "# Test partition\n",
    "show_group_stats_viz(d_test, 'gender')"
   ]
  },
  {
   "cell_type": "markdown",
   "metadata": {},
   "source": [
    "## Convert Dataset Splits to TF Dataset"
   ]
  },
  {
   "cell_type": "code",
   "execution_count": 63,
   "metadata": {},
   "outputs": [],
   "source": [
    "# Convert dataset from Pandas dataframes to TF dataset \n",
    "batch_size = 128\n",
    "diabetes_train_ds = df_to_dataset(d_train, PREDICTOR_FIELD, batch_size=batch_size)\n",
    "diabetes_val_ds = df_to_dataset(d_val, PREDICTOR_FIELD, batch_size=batch_size)\n",
    "diabetes_test_ds = df_to_dataset(d_test, PREDICTOR_FIELD, batch_size=batch_size)"
   ]
  },
  {
   "cell_type": "code",
   "execution_count": 64,
   "metadata": {},
   "outputs": [],
   "source": [
    "# We use this sample of the dataset to show transformations later\n",
    "diabetes_batch = next(iter(diabetes_train_ds))[0]\n",
    "def demo(feature_column, example_batch):\n",
    "    feature_layer = layers.DenseFeatures(feature_column)\n",
    "    print(feature_layer(example_batch))"
   ]
  },
  {
   "cell_type": "markdown",
   "metadata": {},
   "source": [
    "# 4. Create Categorical Features with TF Feature Columns"
   ]
  },
  {
   "cell_type": "markdown",
   "metadata": {},
   "source": [
    "## Build Vocabulary for Categorical Features"
   ]
  },
  {
   "cell_type": "markdown",
   "metadata": {},
   "source": [
    "Before we can create the TF categorical features, we must first create the vocab files with the unique values for a given field that are from the **training** dataset. "
   ]
  },
  {
   "cell_type": "code",
   "execution_count": 65,
   "metadata": {},
   "outputs": [],
   "source": [
    "vocab_file_list = build_vocab_files(d_train, student_categorical_col_list)"
   ]
  },
  {
   "cell_type": "markdown",
   "metadata": {},
   "source": [
    "## Create Categorical Features with Tensorflow Feature Column API"
   ]
  },
  {
   "cell_type": "markdown",
   "metadata": {},
   "source": [
    "Tensorflow Feature Column API, https://www.tensorflow.org/api_docs/python/tf/feature_column."
   ]
  },
  {
   "cell_type": "code",
   "execution_count": 75,
   "metadata": {},
   "outputs": [
    {
     "name": "stdout",
     "output_type": "stream",
     "text": [
      "INFO:tensorflow:vocabulary_size = 6 in race is inferred from the number of elements in the vocabulary_file ./diabetes_vocab/race_vocab.txt.\n",
      "INFO:tensorflow:vocabulary_size = 3 in gender is inferred from the number of elements in the vocabulary_file ./diabetes_vocab/gender_vocab.txt.\n",
      "INFO:tensorflow:vocabulary_size = 11 in age is inferred from the number of elements in the vocabulary_file ./diabetes_vocab/age_vocab.txt.\n",
      "INFO:tensorflow:vocabulary_size = 9 in admission_type_id is inferred from the number of elements in the vocabulary_file ./diabetes_vocab/admission_type_id_vocab.txt.\n",
      "INFO:tensorflow:vocabulary_size = 26 in discharge_disposition_id is inferred from the number of elements in the vocabulary_file ./diabetes_vocab/discharge_disposition_id_vocab.txt.\n",
      "INFO:tensorflow:vocabulary_size = 15 in admission_source_id is inferred from the number of elements in the vocabulary_file ./diabetes_vocab/admission_source_id_vocab.txt.\n",
      "INFO:tensorflow:vocabulary_size = 649 in primary_diagnosis_code is inferred from the number of elements in the vocabulary_file ./diabetes_vocab/primary_diagnosis_code_vocab.txt.\n",
      "INFO:tensorflow:vocabulary_size = 3 in change is inferred from the number of elements in the vocabulary_file ./diabetes_vocab/change_vocab.txt.\n",
      "INFO:tensorflow:vocabulary_size = 4 in readmitted is inferred from the number of elements in the vocabulary_file ./diabetes_vocab/readmitted_vocab.txt.\n",
      "INFO:tensorflow:vocabulary_size = 4 in Acarbose is inferred from the number of elements in the vocabulary_file ./diabetes_vocab/Acarbose_vocab.txt.\n",
      "INFO:tensorflow:vocabulary_size = 4 in Glimepiride is inferred from the number of elements in the vocabulary_file ./diabetes_vocab/Glimepiride_vocab.txt.\n",
      "INFO:tensorflow:vocabulary_size = 4 in Glipizide is inferred from the number of elements in the vocabulary_file ./diabetes_vocab/Glipizide_vocab.txt.\n",
      "INFO:tensorflow:vocabulary_size = 3 in Glipizide_And_Metformin_Hcl is inferred from the number of elements in the vocabulary_file ./diabetes_vocab/Glipizide_And_Metformin_Hcl_vocab.txt.\n",
      "INFO:tensorflow:vocabulary_size = 4 in Glipizide_And_Metformin_Hydrochloride is inferred from the number of elements in the vocabulary_file ./diabetes_vocab/Glipizide_And_Metformin_Hydrochloride_vocab.txt.\n",
      "INFO:tensorflow:vocabulary_size = 4 in Glyburide is inferred from the number of elements in the vocabulary_file ./diabetes_vocab/Glyburide_vocab.txt.\n",
      "INFO:tensorflow:vocabulary_size = 4 in Glyburide_And_Metformin_Hydrochloride is inferred from the number of elements in the vocabulary_file ./diabetes_vocab/Glyburide_And_Metformin_Hydrochloride_vocab.txt.\n",
      "INFO:tensorflow:vocabulary_size = 4 in Glyburide-metformin_Hydrochloride is inferred from the number of elements in the vocabulary_file ./diabetes_vocab/Glyburide-metformin_Hydrochloride_vocab.txt.\n",
      "INFO:tensorflow:vocabulary_size = 4 in Human_Insulin is inferred from the number of elements in the vocabulary_file ./diabetes_vocab/Human_Insulin_vocab.txt.\n",
      "INFO:tensorflow:vocabulary_size = 4 in Insulin_Human is inferred from the number of elements in the vocabulary_file ./diabetes_vocab/Insulin_Human_vocab.txt.\n",
      "INFO:tensorflow:vocabulary_size = 4 in Metformin_Hcl is inferred from the number of elements in the vocabulary_file ./diabetes_vocab/Metformin_Hcl_vocab.txt.\n",
      "INFO:tensorflow:vocabulary_size = 4 in Metformin_Hydrochloride is inferred from the number of elements in the vocabulary_file ./diabetes_vocab/Metformin_Hydrochloride_vocab.txt.\n",
      "INFO:tensorflow:vocabulary_size = 4 in Miglitol is inferred from the number of elements in the vocabulary_file ./diabetes_vocab/Miglitol_vocab.txt.\n",
      "INFO:tensorflow:vocabulary_size = 4 in Nateglinide is inferred from the number of elements in the vocabulary_file ./diabetes_vocab/Nateglinide_vocab.txt.\n",
      "INFO:tensorflow:vocabulary_size = 4 in Pioglitazole_And_Metformin_Hydrochloride is inferred from the number of elements in the vocabulary_file ./diabetes_vocab/Pioglitazole_And_Metformin_Hydrochloride_vocab.txt.\n",
      "INFO:tensorflow:vocabulary_size = 4 in Pioglitazone is inferred from the number of elements in the vocabulary_file ./diabetes_vocab/Pioglitazone_vocab.txt.\n",
      "INFO:tensorflow:vocabulary_size = 4 in Pioglitazone_Hydrochloride_And_Glimepiride is inferred from the number of elements in the vocabulary_file ./diabetes_vocab/Pioglitazone_Hydrochloride_And_Glimepiride_vocab.txt.\n",
      "INFO:tensorflow:vocabulary_size = 4 in Repaglinide is inferred from the number of elements in the vocabulary_file ./diabetes_vocab/Repaglinide_vocab.txt.\n",
      "INFO:tensorflow:vocabulary_size = 4 in Rosiglitazone_Maleate is inferred from the number of elements in the vocabulary_file ./diabetes_vocab/Rosiglitazone_Maleate_vocab.txt.\n",
      "INFO:tensorflow:vocabulary_size = 4 in Tolazamide is inferred from the number of elements in the vocabulary_file ./diabetes_vocab/Tolazamide_vocab.txt.\n",
      "INFO:tensorflow:vocabulary_size = 4 in Tolbutamide is inferred from the number of elements in the vocabulary_file ./diabetes_vocab/Tolbutamide_vocab.txt.\n"
     ]
    }
   ],
   "source": [
    "from student_utils import create_tf_categorical_feature_cols\n",
    "tf_cat_col_list = create_tf_categorical_feature_cols(student_categorical_col_list)"
   ]
  },
  {
   "cell_type": "code",
   "execution_count": 76,
   "metadata": {},
   "outputs": [
    {
     "name": "stdout",
     "output_type": "stream",
     "text": [
      "Example categorical field:\n",
      "IndicatorColumn(categorical_column=VocabularyFileCategoricalColumn(key='gender', vocabulary_file='./diabetes_vocab/gender_vocab.txt', vocabulary_size=3, num_oov_buckets=0, dtype=tf.string, default_value=-1))\n",
      "tf.Tensor(\n",
      "[[0. 1. 0.]\n",
      " [0. 0. 1.]\n",
      " [0. 1. 0.]\n",
      " [0. 1. 0.]\n",
      " [0. 1. 0.]\n",
      " [0. 1. 0.]\n",
      " [0. 1. 0.]\n",
      " [0. 0. 1.]\n",
      " [0. 1. 0.]\n",
      " [0. 1. 0.]\n",
      " [0. 1. 0.]\n",
      " [0. 1. 0.]\n",
      " [0. 1. 0.]\n",
      " [0. 0. 1.]\n",
      " [0. 1. 0.]\n",
      " [0. 0. 1.]\n",
      " [0. 0. 1.]\n",
      " [0. 1. 0.]\n",
      " [0. 1. 0.]\n",
      " [0. 1. 0.]\n",
      " [0. 1. 0.]\n",
      " [0. 1. 0.]\n",
      " [0. 1. 0.]\n",
      " [0. 0. 1.]\n",
      " [0. 0. 1.]\n",
      " [0. 0. 1.]\n",
      " [0. 0. 1.]\n",
      " [0. 1. 0.]\n",
      " [0. 0. 1.]\n",
      " [0. 0. 1.]\n",
      " [0. 1. 0.]\n",
      " [0. 0. 1.]\n",
      " [0. 1. 0.]\n",
      " [0. 1. 0.]\n",
      " [0. 0. 1.]\n",
      " [0. 1. 0.]\n",
      " [0. 1. 0.]\n",
      " [0. 0. 1.]\n",
      " [0. 1. 0.]\n",
      " [0. 1. 0.]\n",
      " [0. 0. 1.]\n",
      " [0. 0. 1.]\n",
      " [0. 0. 1.]\n",
      " [0. 1. 0.]\n",
      " [0. 1. 0.]\n",
      " [0. 1. 0.]\n",
      " [0. 1. 0.]\n",
      " [0. 1. 0.]\n",
      " [0. 1. 0.]\n",
      " [0. 1. 0.]\n",
      " [0. 0. 1.]\n",
      " [0. 1. 0.]\n",
      " [0. 1. 0.]\n",
      " [0. 0. 1.]\n",
      " [0. 1. 0.]\n",
      " [0. 1. 0.]\n",
      " [0. 1. 0.]\n",
      " [0. 1. 0.]\n",
      " [0. 1. 0.]\n",
      " [0. 0. 1.]\n",
      " [0. 1. 0.]\n",
      " [0. 1. 0.]\n",
      " [0. 1. 0.]\n",
      " [0. 0. 1.]\n",
      " [0. 1. 0.]\n",
      " [0. 0. 1.]\n",
      " [0. 0. 1.]\n",
      " [0. 0. 1.]\n",
      " [0. 1. 0.]\n",
      " [0. 1. 0.]\n",
      " [0. 1. 0.]\n",
      " [0. 1. 0.]\n",
      " [0. 1. 0.]\n",
      " [0. 0. 1.]\n",
      " [0. 0. 1.]\n",
      " [0. 0. 1.]\n",
      " [0. 1. 0.]\n",
      " [0. 1. 0.]\n",
      " [0. 0. 1.]\n",
      " [0. 0. 1.]\n",
      " [0. 0. 1.]\n",
      " [0. 0. 1.]\n",
      " [0. 0. 1.]\n",
      " [0. 1. 0.]\n",
      " [0. 1. 0.]\n",
      " [0. 1. 0.]\n",
      " [0. 1. 0.]\n",
      " [0. 1. 0.]\n",
      " [0. 0. 1.]\n",
      " [0. 0. 1.]\n",
      " [0. 0. 1.]\n",
      " [0. 0. 1.]\n",
      " [0. 0. 1.]\n",
      " [0. 1. 0.]\n",
      " [0. 0. 1.]\n",
      " [0. 0. 1.]\n",
      " [0. 1. 0.]\n",
      " [0. 1. 0.]\n",
      " [0. 0. 1.]\n",
      " [0. 1. 0.]\n",
      " [0. 0. 1.]\n",
      " [0. 1. 0.]\n",
      " [0. 0. 1.]\n",
      " [0. 1. 0.]\n",
      " [0. 1. 0.]\n",
      " [0. 1. 0.]\n",
      " [0. 0. 1.]\n",
      " [0. 0. 1.]\n",
      " [0. 1. 0.]\n",
      " [0. 1. 0.]\n",
      " [0. 1. 0.]\n",
      " [0. 1. 0.]\n",
      " [0. 1. 0.]\n",
      " [0. 1. 0.]\n",
      " [0. 0. 1.]\n",
      " [0. 0. 1.]\n",
      " [0. 1. 0.]\n",
      " [0. 0. 1.]\n",
      " [0. 0. 1.]\n",
      " [0. 0. 1.]\n",
      " [0. 0. 1.]\n",
      " [0. 0. 1.]\n",
      " [0. 0. 1.]\n",
      " [0. 0. 1.]\n",
      " [0. 1. 0.]\n",
      " [0. 1. 0.]\n",
      " [0. 0. 1.]\n",
      " [0. 1. 0.]], shape=(128, 3), dtype=float32)\n"
     ]
    }
   ],
   "source": [
    "test_cat_var1 = tf_cat_col_list[1]\n",
    "print(\"Example categorical field:\\n{}\".format(test_cat_var1))\n",
    "demo(test_cat_var1, diabetes_batch)"
   ]
  },
  {
   "cell_type": "markdown",
   "metadata": {},
   "source": [
    "# 5. Create Numerical Features with TF Feature Columns"
   ]
  },
  {
   "cell_type": "markdown",
   "metadata": {},
   "source": [
    "Using the TF Feature Column API(https://www.tensorflow.org/api_docs/python/tf/feature_column/)"
   ]
  },
  {
   "cell_type": "code",
   "execution_count": 77,
   "metadata": {},
   "outputs": [],
   "source": [
    "from student_utils import create_tf_numeric_feature"
   ]
  },
  {
   "cell_type": "markdown",
   "metadata": {},
   "source": [
    "For simplicity the create_tf_numerical_feature_cols function below uses the same normalizer function across all features(z-score normalization) but if you have time feel free to analyze and adapt the normalizer based off the statistical distributions. You may find this as a good resource in determining which transformation fits best for the data https://developers.google.com/machine-learning/data-prep/transform/normalization.\n"
   ]
  },
  {
   "cell_type": "code",
   "execution_count": 78,
   "metadata": {},
   "outputs": [],
   "source": [
    "def calculate_stats_from_train_data(df, col):\n",
    "    mean = df[col].describe()['mean']\n",
    "    std = df[col].describe()['std']\n",
    "    return mean, std\n",
    "\n",
    "def create_tf_numerical_feature_cols(numerical_col_list, train_df):\n",
    "    tf_numeric_col_list = []\n",
    "    for c in numerical_col_list:\n",
    "        mean, std = calculate_stats_from_train_data(train_df, c)\n",
    "        tf_numeric_feature = create_tf_numeric_feature(c, mean, std)\n",
    "        tf_numeric_col_list.append(tf_numeric_feature)\n",
    "    return tf_numeric_col_list"
   ]
  },
  {
   "cell_type": "code",
   "execution_count": 79,
   "metadata": {},
   "outputs": [],
   "source": [
    "tf_cont_col_list = create_tf_numerical_feature_cols(student_numerical_col_list, d_train)"
   ]
  },
  {
   "cell_type": "code",
   "execution_count": 80,
   "metadata": {},
   "outputs": [
    {
     "name": "stdout",
     "output_type": "stream",
     "text": [
      "Example continuous field:\n",
      "NumericColumn(key='num_lab_procedures', shape=(1,), default_value=(0,), dtype=tf.float64, normalizer_fn=functools.partial(<function normalize_numeric_with_zscore at 0x7f9d2f7e5290>, mean=43.07955745416147, std=20.038252273003092))\n",
      "\n",
      "tf.Tensor(\n",
      "[[ 0.8 ]\n",
      " [ 0.6 ]\n",
      " [-0.9 ]\n",
      " [-1.35]\n",
      " [ 1.35]\n",
      " [ 1.45]\n",
      " [-0.5 ]\n",
      " [ 1.35]\n",
      " [ 1.45]\n",
      " [-1.95]\n",
      " [-2.1 ]\n",
      " [-2.  ]\n",
      " [-0.05]\n",
      " [-0.4 ]\n",
      " [ 0.15]\n",
      " [ 1.35]\n",
      " [-0.1 ]\n",
      " [-0.15]\n",
      " [-0.05]\n",
      " [-0.95]\n",
      " [-0.35]\n",
      " [-1.55]\n",
      " [ 1.65]\n",
      " [ 0.65]\n",
      " [ 2.6 ]\n",
      " [-0.95]\n",
      " [-0.75]\n",
      " [ 1.1 ]\n",
      " [ 1.05]\n",
      " [ 0.55]\n",
      " [-0.15]\n",
      " [ 0.5 ]\n",
      " [ 1.5 ]\n",
      " [ 0.3 ]\n",
      " [-0.05]\n",
      " [ 0.3 ]\n",
      " [ 0.45]\n",
      " [ 1.05]\n",
      " [ 0.2 ]\n",
      " [-0.2 ]\n",
      " [-0.05]\n",
      " [-0.4 ]\n",
      " [ 0.35]\n",
      " [ 0.5 ]\n",
      " [-0.5 ]\n",
      " [-0.25]\n",
      " [ 2.45]\n",
      " [-0.2 ]\n",
      " [ 0.7 ]\n",
      " [-1.8 ]\n",
      " [ 1.15]\n",
      " [-0.4 ]\n",
      " [ 0.5 ]\n",
      " [-1.2 ]\n",
      " [ 0.2 ]\n",
      " [ 0.15]\n",
      " [-0.05]\n",
      " [-0.05]\n",
      " [ 0.2 ]\n",
      " [-1.65]\n",
      " [ 1.3 ]\n",
      " [ 1.8 ]\n",
      " [-1.2 ]\n",
      " [ 0.25]\n",
      " [-0.75]\n",
      " [ 0.45]\n",
      " [ 0.35]\n",
      " [-0.4 ]\n",
      " [-2.  ]\n",
      " [ 1.5 ]\n",
      " [ 2.65]\n",
      " [ 0.6 ]\n",
      " [-0.8 ]\n",
      " [-0.15]\n",
      " [ 1.15]\n",
      " [ 0.2 ]\n",
      " [ 1.6 ]\n",
      " [ 0.45]\n",
      " [-0.85]\n",
      " [-0.1 ]\n",
      " [-1.8 ]\n",
      " [-0.65]\n",
      " [ 0.3 ]\n",
      " [ 0.35]\n",
      " [ 0.45]\n",
      " [ 0.1 ]\n",
      " [-0.05]\n",
      " [-0.9 ]\n",
      " [ 0.35]\n",
      " [ 0.45]\n",
      " [ 0.15]\n",
      " [-0.7 ]\n",
      " [ 0.  ]\n",
      " [ 0.95]\n",
      " [-0.7 ]\n",
      " [ 0.5 ]\n",
      " [-1.3 ]\n",
      " [-0.1 ]\n",
      " [ 0.85]\n",
      " [ 0.55]\n",
      " [ 2.1 ]\n",
      " [-0.3 ]\n",
      " [ 1.8 ]\n",
      " [-1.95]\n",
      " [-0.05]\n",
      " [-0.05]\n",
      " [ 1.2 ]\n",
      " [ 0.35]\n",
      " [ 0.55]\n",
      " [-0.45]\n",
      " [ 0.2 ]\n",
      " [-1.35]\n",
      " [ 0.4 ]\n",
      " [-0.15]\n",
      " [-2.1 ]\n",
      " [-0.3 ]\n",
      " [ 0.85]\n",
      " [ 0.85]\n",
      " [-0.55]\n",
      " [ 0.15]\n",
      " [-0.9 ]\n",
      " [ 0.55]\n",
      " [ 0.15]\n",
      " [ 0.65]\n",
      " [ 0.85]\n",
      " [-2.  ]\n",
      " [ 0.55]\n",
      " [-1.05]], shape=(128, 1), dtype=float32)\n"
     ]
    }
   ],
   "source": [
    "test_cont_var1 = tf_cont_col_list[0]\n",
    "print(\"Example continuous field:\\n{}\\n\".format(test_cont_var1))\n",
    "demo(test_cont_var1, diabetes_batch)"
   ]
  },
  {
   "cell_type": "markdown",
   "metadata": {},
   "source": [
    "# 6. Build Deep Learning Regression Model with Sequential API and TF Probability Layers"
   ]
  },
  {
   "cell_type": "markdown",
   "metadata": {},
   "source": [
    "## Use DenseFeatures to combine features for model"
   ]
  },
  {
   "cell_type": "markdown",
   "metadata": {},
   "source": [
    "Now that we have prepared categorical and numerical features using Tensorflow's Feature Column API, we can combine them into a dense vector representation for the model. Below we will create this new input layer, which we will call 'claim_feature_layer'."
   ]
  },
  {
   "cell_type": "code",
   "execution_count": 81,
   "metadata": {},
   "outputs": [],
   "source": [
    "claim_feature_columns = tf_cat_col_list + tf_cont_col_list\n",
    "claim_feature_layer = tf.keras.layers.DenseFeatures(claim_feature_columns)"
   ]
  },
  {
   "cell_type": "markdown",
   "metadata": {},
   "source": [
    "## Build Sequential API Model from DenseFeatures and TF Probability Layers"
   ]
  },
  {
   "cell_type": "code",
   "execution_count": 82,
   "metadata": {},
   "outputs": [],
   "source": [
    "def build_sequential_model(feature_layer):\n",
    "    model = tf.keras.Sequential([\n",
    "        feature_layer,\n",
    "        tf.keras.layers.Dense(150, activation='relu'),\n",
    "        tf.keras.layers.Dense(75, activation='relu'),\n",
    "        tfp.layers.DenseVariational(1+1, posterior_mean_field, prior_trainable),\n",
    "        tfp.layers.DistributionLambda(\n",
    "            lambda t:tfp.distributions.Normal(loc=t[..., :1],\n",
    "                                             scale=1e-3 + tf.math.softplus(0.01 * t[...,1:])\n",
    "                                             )\n",
    "        ),\n",
    "    ])\n",
    "    return model\n",
    "\n",
    "def build_diabetes_model(train_ds, val_ds,  feature_layer,  epochs=5, loss_metric='mse'):\n",
    "    model = build_sequential_model(feature_layer)\n",
    "    model.compile(optimizer='rmsprop', loss=loss_metric, metrics=[loss_metric])\n",
    "    early_stop = tf.keras.callbacks.EarlyStopping(monitor=loss_metric, patience=5)     \n",
    "    history = model.fit(train_ds, validation_data=val_ds,\n",
    "                        callbacks=[early_stop],\n",
    "                        epochs=epochs)\n",
    "    return model, history "
   ]
  },
  {
   "cell_type": "code",
   "execution_count": 83,
   "metadata": {},
   "outputs": [
    {
     "name": "stdout",
     "output_type": "stream",
     "text": [
      "Train for 326 steps, validate for 109 steps\n",
      "Epoch 1/100\n",
      "326/326 [==============================] - 9s 27ms/step - loss: 26.6616 - mse: 26.4818 - val_loss: 19.8367 - val_mse: 19.5405\n",
      "Epoch 2/100\n",
      "326/326 [==============================] - 5s 17ms/step - loss: 16.3897 - mse: 15.7262 - val_loss: 13.1082 - val_mse: 11.9897\n",
      "Epoch 3/100\n",
      "326/326 [==============================] - 5s 15ms/step - loss: 13.9887 - mse: 13.0992 - val_loss: 12.1288 - val_mse: 11.2045\n",
      "Epoch 4/100\n",
      "326/326 [==============================] - 5s 15ms/step - loss: 11.5297 - mse: 10.6043 - val_loss: 11.4291 - val_mse: 10.1962\n",
      "Epoch 5/100\n",
      "326/326 [==============================] - 5s 16ms/step - loss: 10.7074 - mse: 9.8092 - val_loss: 9.6366 - val_mse: 8.5938\n",
      "Epoch 6/100\n",
      "326/326 [==============================] - 6s 17ms/step - loss: 10.2538 - mse: 9.2498 - val_loss: 11.0740 - val_mse: 10.2042\n",
      "Epoch 7/100\n",
      "326/326 [==============================] - 5s 16ms/step - loss: 9.5511 - mse: 8.7887 - val_loss: 10.9573 - val_mse: 10.2220\n",
      "Epoch 8/100\n",
      "326/326 [==============================] - 5s 16ms/step - loss: 9.1516 - mse: 8.2823 - val_loss: 9.2016 - val_mse: 8.2584\n",
      "Epoch 9/100\n",
      "326/326 [==============================] - 5s 14ms/step - loss: 8.7228 - mse: 7.8886 - val_loss: 9.2527 - val_mse: 8.3867\n",
      "Epoch 10/100\n",
      "326/326 [==============================] - 5s 16ms/step - loss: 8.8791 - mse: 7.9140 - val_loss: 7.8915 - val_mse: 7.2743\n",
      "Epoch 11/100\n",
      "326/326 [==============================] - 5s 15ms/step - loss: 8.3991 - mse: 7.6080 - val_loss: 8.4738 - val_mse: 7.5166\n",
      "Epoch 12/100\n",
      "326/326 [==============================] - 5s 14ms/step - loss: 8.3021 - mse: 7.4041 - val_loss: 8.9071 - val_mse: 7.8630\n",
      "Epoch 13/100\n",
      "326/326 [==============================] - 5s 14ms/step - loss: 8.2029 - mse: 7.2388 - val_loss: 7.8251 - val_mse: 6.8989\n",
      "Epoch 14/100\n",
      "326/326 [==============================] - 5s 14ms/step - loss: 8.0538 - mse: 7.2518 - val_loss: 8.0877 - val_mse: 7.2094\n",
      "Epoch 15/100\n",
      "326/326 [==============================] - 5s 16ms/step - loss: 7.8053 - mse: 6.9099 - val_loss: 7.8871 - val_mse: 6.9033\n",
      "Epoch 16/100\n",
      "326/326 [==============================] - 5s 14ms/step - loss: 7.7998 - mse: 6.9454 - val_loss: 7.9425 - val_mse: 7.0093\n",
      "Epoch 17/100\n",
      "326/326 [==============================] - 5s 15ms/step - loss: 7.6305 - mse: 6.6636 - val_loss: 7.7555 - val_mse: 6.9609\n",
      "Epoch 18/100\n",
      "326/326 [==============================] - 5s 14ms/step - loss: 7.7115 - mse: 6.8090 - val_loss: 7.4480 - val_mse: 6.7362\n",
      "Epoch 19/100\n",
      "326/326 [==============================] - 5s 17ms/step - loss: 7.4046 - mse: 6.6343 - val_loss: 7.6148 - val_mse: 6.7650\n",
      "Epoch 20/100\n",
      "326/326 [==============================] - 5s 15ms/step - loss: 7.4345 - mse: 6.5769 - val_loss: 8.0971 - val_mse: 7.1780\n",
      "Epoch 21/100\n",
      "326/326 [==============================] - 5s 14ms/step - loss: 7.4387 - mse: 6.4834 - val_loss: 7.9601 - val_mse: 7.0360\n",
      "Epoch 22/100\n",
      "326/326 [==============================] - 5s 14ms/step - loss: 7.3815 - mse: 6.5141 - val_loss: 7.9531 - val_mse: 6.8033\n",
      "Epoch 23/100\n",
      "326/326 [==============================] - 5s 15ms/step - loss: 7.3596 - mse: 6.4592 - val_loss: 7.9336 - val_mse: 7.0234\n",
      "Epoch 24/100\n",
      "326/326 [==============================] - 5s 16ms/step - loss: 7.2577 - mse: 6.2929 - val_loss: 7.5393 - val_mse: 6.5780\n",
      "Epoch 25/100\n",
      "326/326 [==============================] - 5s 15ms/step - loss: 7.2126 - mse: 6.2561 - val_loss: 9.2376 - val_mse: 8.4286\n",
      "Epoch 26/100\n",
      "326/326 [==============================] - 5s 15ms/step - loss: 6.9921 - mse: 6.1109 - val_loss: 7.4121 - val_mse: 6.6128\n",
      "Epoch 27/100\n",
      "326/326 [==============================] - 5s 15ms/step - loss: 7.2760 - mse: 6.3372 - val_loss: 7.2825 - val_mse: 6.3709\n",
      "Epoch 28/100\n",
      "326/326 [==============================] - 5s 16ms/step - loss: 7.2848 - mse: 6.3759 - val_loss: 7.2250 - val_mse: 6.3554\n",
      "Epoch 29/100\n",
      "326/326 [==============================] - 5s 15ms/step - loss: 7.0916 - mse: 6.1341 - val_loss: 7.2602 - val_mse: 6.3819\n",
      "Epoch 30/100\n",
      "326/326 [==============================] - 5s 14ms/step - loss: 6.8719 - mse: 6.0304 - val_loss: 7.4577 - val_mse: 6.4982\n",
      "Epoch 31/100\n",
      "326/326 [==============================] - 5s 15ms/step - loss: 7.0226 - mse: 5.9508 - val_loss: 7.4069 - val_mse: 6.5113\n",
      "Epoch 32/100\n",
      "326/326 [==============================] - 5s 14ms/step - loss: 7.0423 - mse: 6.0314 - val_loss: 7.0701 - val_mse: 6.3518\n",
      "Epoch 33/100\n",
      "326/326 [==============================] - 5s 16ms/step - loss: 6.8810 - mse: 6.0732 - val_loss: 7.6081 - val_mse: 6.8187\n",
      "Epoch 34/100\n",
      "326/326 [==============================] - 5s 14ms/step - loss: 6.7903 - mse: 5.9934 - val_loss: 7.3477 - val_mse: 6.4903\n",
      "Epoch 35/100\n",
      "326/326 [==============================] - 5s 15ms/step - loss: 6.7361 - mse: 5.8845 - val_loss: 7.6598 - val_mse: 6.5350\n",
      "Epoch 36/100\n",
      "326/326 [==============================] - 5s 15ms/step - loss: 6.9137 - mse: 5.9529 - val_loss: 7.3681 - val_mse: 6.3855\n",
      "Epoch 37/100\n",
      "326/326 [==============================] - 6s 17ms/step - loss: 6.7836 - mse: 5.8532 - val_loss: 7.7747 - val_mse: 6.8397\n",
      "Epoch 38/100\n",
      "326/326 [==============================] - 5s 16ms/step - loss: 6.9906 - mse: 5.9559 - val_loss: 7.1142 - val_mse: 6.3923\n",
      "Epoch 39/100\n",
      "326/326 [==============================] - 5s 14ms/step - loss: 6.7032 - mse: 5.6703 - val_loss: 7.3683 - val_mse: 6.5178\n",
      "Epoch 40/100\n",
      "326/326 [==============================] - 5s 14ms/step - loss: 6.8070 - mse: 5.8301 - val_loss: 7.3029 - val_mse: 6.3332\n",
      "Epoch 41/100\n",
      "326/326 [==============================] - 5s 15ms/step - loss: 6.5975 - mse: 5.6345 - val_loss: 7.4493 - val_mse: 6.5793\n",
      "Epoch 42/100\n",
      "326/326 [==============================] - 5s 16ms/step - loss: 6.6374 - mse: 5.6518 - val_loss: 7.7195 - val_mse: 6.8825\n",
      "Epoch 43/100\n",
      "326/326 [==============================] - 5s 15ms/step - loss: 6.5081 - mse: 5.6437 - val_loss: 7.4030 - val_mse: 6.6756\n",
      "Epoch 44/100\n",
      "326/326 [==============================] - 5s 15ms/step - loss: 6.5189 - mse: 5.5661 - val_loss: 7.4612 - val_mse: 6.4661\n",
      "Epoch 45/100\n",
      "326/326 [==============================] - 5s 14ms/step - loss: 6.5896 - mse: 5.7021 - val_loss: 7.6280 - val_mse: 6.5507\n",
      "Epoch 46/100\n",
      "326/326 [==============================] - 5s 16ms/step - loss: 6.5026 - mse: 5.6180 - val_loss: 7.2782 - val_mse: 6.4982\n",
      "Epoch 47/100\n",
      "326/326 [==============================] - 5s 15ms/step - loss: 6.4809 - mse: 5.6023 - val_loss: 7.0886 - val_mse: 6.2899\n",
      "Epoch 48/100\n",
      "326/326 [==============================] - 5s 14ms/step - loss: 6.4621 - mse: 5.5481 - val_loss: 7.6163 - val_mse: 6.4737\n",
      "Epoch 49/100\n",
      "326/326 [==============================] - 5s 14ms/step - loss: 6.3701 - mse: 5.5303 - val_loss: 7.5143 - val_mse: 6.5076\n",
      "Epoch 50/100\n",
      "326/326 [==============================] - 5s 15ms/step - loss: 6.5916 - mse: 5.5211 - val_loss: 7.4739 - val_mse: 6.6506\n",
      "Epoch 51/100\n",
      "326/326 [==============================] - 5s 15ms/step - loss: 6.4370 - mse: 5.5716 - val_loss: 7.7018 - val_mse: 6.5163\n",
      "Epoch 52/100\n",
      "326/326 [==============================] - 5s 14ms/step - loss: 6.5698 - mse: 5.5931 - val_loss: 7.2454 - val_mse: 6.4307\n",
      "Epoch 53/100\n",
      "326/326 [==============================] - 5s 15ms/step - loss: 6.4149 - mse: 5.4548 - val_loss: 7.7889 - val_mse: 6.6498\n",
      "Epoch 54/100\n",
      "326/326 [==============================] - 5s 14ms/step - loss: 6.2644 - mse: 5.4827 - val_loss: 7.4897 - val_mse: 6.5462\n",
      "Epoch 55/100\n",
      "326/326 [==============================] - 5s 16ms/step - loss: 6.3912 - mse: 5.4655 - val_loss: 7.5670 - val_mse: 6.6192\n",
      "Epoch 56/100\n",
      "326/326 [==============================] - 5s 15ms/step - loss: 6.3302 - mse: 5.3567 - val_loss: 7.3136 - val_mse: 6.4762\n",
      "Epoch 57/100\n",
      "326/326 [==============================] - 5s 14ms/step - loss: 6.3194 - mse: 5.4061 - val_loss: 7.3624 - val_mse: 6.5531\n",
      "Epoch 58/100\n",
      "326/326 [==============================] - 4s 14ms/step - loss: 6.3802 - mse: 5.3895 - val_loss: 7.4123 - val_mse: 6.4756\n",
      "Epoch 59/100\n",
      "326/326 [==============================] - 5s 14ms/step - loss: 6.2459 - mse: 5.2720 - val_loss: 7.1578 - val_mse: 6.4146\n",
      "Epoch 60/100\n",
      "326/326 [==============================] - 5s 15ms/step - loss: 6.3460 - mse: 5.4033 - val_loss: 7.4959 - val_mse: 6.5269\n",
      "Epoch 61/100\n",
      "326/326 [==============================] - 5s 14ms/step - loss: 6.2161 - mse: 5.3844 - val_loss: 7.5237 - val_mse: 6.6722\n",
      "Epoch 62/100\n",
      "326/326 [==============================] - 5s 15ms/step - loss: 6.0664 - mse: 5.2426 - val_loss: 7.5878 - val_mse: 6.5419\n",
      "Epoch 63/100\n",
      "326/326 [==============================] - 5s 14ms/step - loss: 6.1471 - mse: 5.3477 - val_loss: 7.8221 - val_mse: 6.6822\n",
      "Epoch 64/100\n",
      "326/326 [==============================] - 5s 16ms/step - loss: 6.2484 - mse: 5.2444 - val_loss: 7.6289 - val_mse: 6.6045\n",
      "Epoch 65/100\n",
      "326/326 [==============================] - 5s 15ms/step - loss: 6.1498 - mse: 5.3461 - val_loss: 7.4137 - val_mse: 6.5428\n",
      "Epoch 66/100\n",
      "326/326 [==============================] - 5s 14ms/step - loss: 6.3112 - mse: 5.2902 - val_loss: 7.3453 - val_mse: 6.5043\n",
      "Epoch 67/100\n",
      "326/326 [==============================] - 4s 14ms/step - loss: 6.3795 - mse: 5.3509 - val_loss: 7.1955 - val_mse: 6.5153\n"
     ]
    }
   ],
   "source": [
    "diabetes_model, history = build_diabetes_model(diabetes_train_ds, diabetes_val_ds,  claim_feature_layer,  epochs=100)"
   ]
  },
  {
   "cell_type": "markdown",
   "metadata": {},
   "source": [
    "## Show Model Uncertainty Range with TF Probability"
   ]
  },
  {
   "cell_type": "code",
   "execution_count": 84,
   "metadata": {},
   "outputs": [],
   "source": [
    "feature_list = student_categorical_col_list + student_numerical_col_list\n",
    "diabetes_x_tst = dict(d_test[feature_list])\n",
    "diabetes_yhat = diabetes_model(diabetes_x_tst)\n",
    "preds = diabetes_model.predict(diabetes_test_ds)"
   ]
  },
  {
   "cell_type": "code",
   "execution_count": 85,
   "metadata": {},
   "outputs": [],
   "source": [
    "from student_utils import get_mean_std_from_preds\n",
    "m, s = get_mean_std_from_preds(diabetes_yhat)"
   ]
  },
  {
   "cell_type": "markdown",
   "metadata": {},
   "source": [
    "## Show Prediction Output "
   ]
  },
  {
   "cell_type": "code",
   "execution_count": 86,
   "metadata": {},
   "outputs": [],
   "source": [
    "prob_outputs = {\n",
    "    \"pred\": preds.flatten(),\n",
    "    \"actual_value\": d_test['time_in_hospital'].values,\n",
    "    \"pred_mean\": m.numpy().flatten(),\n",
    "    \"pred_std\": s.numpy().flatten()\n",
    "}\n",
    "prob_output_df = pd.DataFrame(prob_outputs)"
   ]
  },
  {
   "cell_type": "code",
   "execution_count": 87,
   "metadata": {},
   "outputs": [
    {
     "data": {
      "text/html": [
       "<div>\n",
       "<style scoped>\n",
       "    .dataframe tbody tr th:only-of-type {\n",
       "        vertical-align: middle;\n",
       "    }\n",
       "\n",
       "    .dataframe tbody tr th {\n",
       "        vertical-align: top;\n",
       "    }\n",
       "\n",
       "    .dataframe thead th {\n",
       "        text-align: right;\n",
       "    }\n",
       "</style>\n",
       "<table border=\"1\" class=\"dataframe\">\n",
       "  <thead>\n",
       "    <tr style=\"text-align: right;\">\n",
       "      <th></th>\n",
       "      <th>pred</th>\n",
       "      <th>actual_value</th>\n",
       "      <th>pred_mean</th>\n",
       "      <th>pred_std</th>\n",
       "    </tr>\n",
       "  </thead>\n",
       "  <tbody>\n",
       "    <tr>\n",
       "      <th>0</th>\n",
       "      <td>3.075121</td>\n",
       "      <td>1.0</td>\n",
       "      <td>2.056571</td>\n",
       "      <td>0.699072</td>\n",
       "    </tr>\n",
       "    <tr>\n",
       "      <th>1</th>\n",
       "      <td>2.930538</td>\n",
       "      <td>1.0</td>\n",
       "      <td>2.169055</td>\n",
       "      <td>0.699248</td>\n",
       "    </tr>\n",
       "    <tr>\n",
       "      <th>2</th>\n",
       "      <td>3.187850</td>\n",
       "      <td>1.0</td>\n",
       "      <td>2.849530</td>\n",
       "      <td>0.699417</td>\n",
       "    </tr>\n",
       "    <tr>\n",
       "      <th>3</th>\n",
       "      <td>2.089474</td>\n",
       "      <td>2.0</td>\n",
       "      <td>2.291217</td>\n",
       "      <td>0.699115</td>\n",
       "    </tr>\n",
       "    <tr>\n",
       "      <th>4</th>\n",
       "      <td>2.187605</td>\n",
       "      <td>13.0</td>\n",
       "      <td>7.199099</td>\n",
       "      <td>0.705249</td>\n",
       "    </tr>\n",
       "  </tbody>\n",
       "</table>\n",
       "</div>"
      ],
      "text/plain": [
       "       pred  actual_value  pred_mean  pred_std\n",
       "0  3.075121           1.0   2.056571  0.699072\n",
       "1  2.930538           1.0   2.169055  0.699248\n",
       "2  3.187850           1.0   2.849530  0.699417\n",
       "3  2.089474           2.0   2.291217  0.699115\n",
       "4  2.187605          13.0   7.199099  0.705249"
      ]
     },
     "execution_count": 87,
     "metadata": {},
     "output_type": "execute_result"
    }
   ],
   "source": [
    "prob_output_df.head()"
   ]
  },
  {
   "cell_type": "markdown",
   "metadata": {},
   "source": [
    "## Convert Regression Output to Classification Output for Patient Selection"
   ]
  },
  {
   "cell_type": "code",
   "execution_count": 88,
   "metadata": {},
   "outputs": [],
   "source": [
    "from student_utils import get_student_binary_prediction\n",
    "student_binary_prediction = get_student_binary_prediction(m)"
   ]
  },
  {
   "cell_type": "markdown",
   "metadata": {},
   "source": [
    "### Add Binary Prediction to Test Dataframe"
   ]
  },
  {
   "cell_type": "markdown",
   "metadata": {},
   "source": [
    "Using the student_binary_prediction output that is a numpy array with binary labels, we can use this to add to a dataframe to better visualize and also to prepare the data for the Aequitas toolkit. The Aequitas toolkit requires that the predictions be mapped to a binary label for the predictions (called 'score' field) and the actual value (called 'label_value')."
   ]
  },
  {
   "cell_type": "code",
   "execution_count": 89,
   "metadata": {},
   "outputs": [],
   "source": [
    "def add_pred_to_test(test_df, pred_np, demo_col_list):\n",
    "    for c in demo_col_list:\n",
    "        test_df[c] = test_df[c].astype(str)\n",
    "    test_df['score'] = pred_np\n",
    "    test_df['label_value'] = test_df['time_in_hospital'].apply(lambda x: 1 if x >=5 else 0)\n",
    "    return test_df\n",
    "\n",
    "pred_test_df = add_pred_to_test(d_test, student_binary_prediction, ['race', 'gender'])"
   ]
  },
  {
   "cell_type": "code",
   "execution_count": 90,
   "metadata": {},
   "outputs": [
    {
     "data": {
      "text/html": [
       "<div>\n",
       "<style scoped>\n",
       "    .dataframe tbody tr th:only-of-type {\n",
       "        vertical-align: middle;\n",
       "    }\n",
       "\n",
       "    .dataframe tbody tr th {\n",
       "        vertical-align: top;\n",
       "    }\n",
       "\n",
       "    .dataframe thead th {\n",
       "        text-align: right;\n",
       "    }\n",
       "</style>\n",
       "<table border=\"1\" class=\"dataframe\">\n",
       "  <thead>\n",
       "    <tr style=\"text-align: right;\">\n",
       "      <th></th>\n",
       "      <th>patient_nbr</th>\n",
       "      <th>gender</th>\n",
       "      <th>race</th>\n",
       "      <th>time_in_hospital</th>\n",
       "      <th>score</th>\n",
       "      <th>label_value</th>\n",
       "    </tr>\n",
       "  </thead>\n",
       "  <tbody>\n",
       "    <tr>\n",
       "      <th>0</th>\n",
       "      <td>2200428</td>\n",
       "      <td>Female</td>\n",
       "      <td>Caucasian</td>\n",
       "      <td>1.0</td>\n",
       "      <td>0</td>\n",
       "      <td>0</td>\n",
       "    </tr>\n",
       "    <tr>\n",
       "      <th>1</th>\n",
       "      <td>58735485</td>\n",
       "      <td>Male</td>\n",
       "      <td>AfricanAmerican</td>\n",
       "      <td>1.0</td>\n",
       "      <td>0</td>\n",
       "      <td>0</td>\n",
       "    </tr>\n",
       "    <tr>\n",
       "      <th>2</th>\n",
       "      <td>41229432</td>\n",
       "      <td>Female</td>\n",
       "      <td>Caucasian</td>\n",
       "      <td>1.0</td>\n",
       "      <td>0</td>\n",
       "      <td>0</td>\n",
       "    </tr>\n",
       "    <tr>\n",
       "      <th>3</th>\n",
       "      <td>2681865</td>\n",
       "      <td>Female</td>\n",
       "      <td>AfricanAmerican</td>\n",
       "      <td>2.0</td>\n",
       "      <td>0</td>\n",
       "      <td>0</td>\n",
       "    </tr>\n",
       "    <tr>\n",
       "      <th>4</th>\n",
       "      <td>33228009</td>\n",
       "      <td>Female</td>\n",
       "      <td>Caucasian</td>\n",
       "      <td>13.0</td>\n",
       "      <td>1</td>\n",
       "      <td>1</td>\n",
       "    </tr>\n",
       "  </tbody>\n",
       "</table>\n",
       "</div>"
      ],
      "text/plain": [
       "   patient_nbr  gender             race  time_in_hospital  score  label_value\n",
       "0      2200428  Female        Caucasian               1.0      0            0\n",
       "1     58735485    Male  AfricanAmerican               1.0      0            0\n",
       "2     41229432  Female        Caucasian               1.0      0            0\n",
       "3      2681865  Female  AfricanAmerican               2.0      0            0\n",
       "4     33228009  Female        Caucasian              13.0      1            1"
      ]
     },
     "execution_count": 90,
     "metadata": {},
     "output_type": "execute_result"
    }
   ],
   "source": [
    "pred_test_df[['patient_nbr', 'gender', 'race', 'time_in_hospital', 'score', 'label_value']].head()"
   ]
  },
  {
   "cell_type": "markdown",
   "metadata": {},
   "source": [
    "## Model Evaluation Metrics "
   ]
  },
  {
   "cell_type": "markdown",
   "metadata": {},
   "source": [
    "- With a non-technical audience in mind, explain the precision-recall tradeoff in regard to how you have optimized your model.\n",
    "**The balancing between precision and recall was used to optimize the model**\n",
    "\n",
    "- What are some areas of improvement for future iterations?\n",
    "**This project can be optimized by adding more dense layers, changing number of nodes for layers, and trying different activation function**"
   ]
  },
  {
   "cell_type": "code",
   "execution_count": 92,
   "metadata": {},
   "outputs": [],
   "source": [
    "from sklearn.metrics import brier_score_loss, accuracy_score, f1_score, classification_report, roc_auc_score, roc_curve"
   ]
  },
  {
   "cell_type": "code",
   "execution_count": 93,
   "metadata": {
    "scrolled": true
   },
   "outputs": [
    {
     "name": "stdout",
     "output_type": "stream",
     "text": [
      "              precision    recall  f1-score   support\n",
      "\n",
      "           0       0.77      0.91      0.83      8866\n",
      "           1       0.76      0.51      0.61      5023\n",
      "\n",
      "    accuracy                           0.76     13889\n",
      "   macro avg       0.76      0.71      0.72     13889\n",
      "weighted avg       0.76      0.76      0.75     13889\n",
      "\n"
     ]
    }
   ],
   "source": [
    "print(classification_report(pred_test_df['label_value'], pred_test_df['score']))"
   ]
  },
  {
   "cell_type": "code",
   "execution_count": 94,
   "metadata": {},
   "outputs": [
    {
     "name": "stdout",
     "output_type": "stream",
     "text": [
      "0.7635538915688674\n"
     ]
    }
   ],
   "source": [
    "y_true = pred_test_df['label_value'].values \n",
    "y_pred = pred_test_df['score'].values\n",
    "acc = accuracy_score(y_true, y_pred)\n",
    "print(acc)"
   ]
  },
  {
   "cell_type": "code",
   "execution_count": 95,
   "metadata": {},
   "outputs": [
    {
     "data": {
      "text/plain": [
       "0.7502719272000384"
      ]
     },
     "execution_count": 95,
     "metadata": {},
     "output_type": "execute_result"
    }
   ],
   "source": [
    "#F1\n",
    "f1_score(pred_test_df['label_value'], pred_test_df['score'], average='weighted')"
   ]
  },
  {
   "cell_type": "code",
   "execution_count": 96,
   "metadata": {},
   "outputs": [
    {
     "data": {
      "text/plain": [
       "0.7081389964386245"
      ]
     },
     "execution_count": 96,
     "metadata": {},
     "output_type": "execute_result"
    }
   ],
   "source": [
    "#AUC - area under the ROC curve\n",
    "roc_auc_score(pred_test_df['label_value'], pred_test_df['score'])"
   ]
  },
  {
   "cell_type": "markdown",
   "metadata": {},
   "source": [
    "# 7. Evaluating Potential Model Biases with Aequitas Toolkit"
   ]
  },
  {
   "cell_type": "markdown",
   "metadata": {},
   "source": [
    "## Prepare Data For Aequitas Bias Toolkit "
   ]
  },
  {
   "cell_type": "markdown",
   "metadata": {},
   "source": [
    "Using the gender and race fields, we will prepare the data for the Aequitas Toolkit."
   ]
  },
  {
   "cell_type": "code",
   "execution_count": 118,
   "metadata": {},
   "outputs": [
    {
     "name": "stderr",
     "output_type": "stream",
     "text": [
      "/opt/conda/lib/python3.7/site-packages/aequitas/group.py:143: SettingWithCopyWarning: \n",
      "A value is trying to be set on a copy of a slice from a DataFrame.\n",
      "Try using .loc[row_indexer,col_indexer] = value instead\n",
      "\n",
      "See the caveats in the documentation: https://pandas.pydata.org/pandas-docs/stable/user_guide/indexing.html#returning-a-view-versus-a-copy\n",
      "  df['score'] = df['score'].astype(float)\n"
     ]
    },
    {
     "name": "stdout",
     "output_type": "stream",
     "text": [
      "model_id, score_thresholds 1 {'rank_abs': [3363]}\n"
     ]
    }
   ],
   "source": [
    "# Aequitas\n",
    "from aequitas.preprocessing import preprocess_input_df\n",
    "from aequitas.group import Group\n",
    "from aequitas.plotting import Plot\n",
    "from aequitas.bias import Bias\n",
    "from aequitas.fairness import Fairness\n",
    "\n",
    "ae_subset_df = pred_test_df[['race', 'gender', 'score', 'label_value']]\n",
    "ae_df, _ = preprocess_input_df(ae_subset_df)\n",
    "g = Group()\n",
    "xtab, _ = g.get_crosstabs(ae_df)\n",
    "absolute_metrics = g.list_absolute_metrics(xtab)\n",
    "clean_xtab = xtab.fillna(-1)\n",
    "aqp = Plot()\n",
    "b = Bias()\n"
   ]
  },
  {
   "cell_type": "code",
   "execution_count": 119,
   "metadata": {},
   "outputs": [
    {
     "data": {
      "text/html": [
       "<div>\n",
       "<style scoped>\n",
       "    .dataframe tbody tr th:only-of-type {\n",
       "        vertical-align: middle;\n",
       "    }\n",
       "\n",
       "    .dataframe tbody tr th {\n",
       "        vertical-align: top;\n",
       "    }\n",
       "\n",
       "    .dataframe thead th {\n",
       "        text-align: right;\n",
       "    }\n",
       "</style>\n",
       "<table border=\"1\" class=\"dataframe\">\n",
       "  <thead>\n",
       "    <tr style=\"text-align: right;\">\n",
       "      <th></th>\n",
       "      <th>race</th>\n",
       "      <th>gender</th>\n",
       "      <th>score</th>\n",
       "      <th>label_value</th>\n",
       "    </tr>\n",
       "  </thead>\n",
       "  <tbody>\n",
       "    <tr>\n",
       "      <th>15</th>\n",
       "      <td>Hispanic</td>\n",
       "      <td>Female</td>\n",
       "      <td>0.0</td>\n",
       "      <td>0</td>\n",
       "    </tr>\n",
       "    <tr>\n",
       "      <th>24</th>\n",
       "      <td>Hispanic</td>\n",
       "      <td>Female</td>\n",
       "      <td>0.0</td>\n",
       "      <td>0</td>\n",
       "    </tr>\n",
       "    <tr>\n",
       "      <th>81</th>\n",
       "      <td>Hispanic</td>\n",
       "      <td>Female</td>\n",
       "      <td>0.0</td>\n",
       "      <td>0</td>\n",
       "    </tr>\n",
       "    <tr>\n",
       "      <th>149</th>\n",
       "      <td>Hispanic</td>\n",
       "      <td>Male</td>\n",
       "      <td>1.0</td>\n",
       "      <td>1</td>\n",
       "    </tr>\n",
       "    <tr>\n",
       "      <th>163</th>\n",
       "      <td>Hispanic</td>\n",
       "      <td>Female</td>\n",
       "      <td>0.0</td>\n",
       "      <td>1</td>\n",
       "    </tr>\n",
       "    <tr>\n",
       "      <th>...</th>\n",
       "      <td>...</td>\n",
       "      <td>...</td>\n",
       "      <td>...</td>\n",
       "      <td>...</td>\n",
       "    </tr>\n",
       "    <tr>\n",
       "      <th>13709</th>\n",
       "      <td>Hispanic</td>\n",
       "      <td>Male</td>\n",
       "      <td>0.0</td>\n",
       "      <td>0</td>\n",
       "    </tr>\n",
       "    <tr>\n",
       "      <th>13781</th>\n",
       "      <td>Hispanic</td>\n",
       "      <td>Male</td>\n",
       "      <td>0.0</td>\n",
       "      <td>0</td>\n",
       "    </tr>\n",
       "    <tr>\n",
       "      <th>13824</th>\n",
       "      <td>Hispanic</td>\n",
       "      <td>Female</td>\n",
       "      <td>0.0</td>\n",
       "      <td>0</td>\n",
       "    </tr>\n",
       "    <tr>\n",
       "      <th>13827</th>\n",
       "      <td>Hispanic</td>\n",
       "      <td>Male</td>\n",
       "      <td>0.0</td>\n",
       "      <td>1</td>\n",
       "    </tr>\n",
       "    <tr>\n",
       "      <th>13832</th>\n",
       "      <td>Hispanic</td>\n",
       "      <td>Male</td>\n",
       "      <td>0.0</td>\n",
       "      <td>0</td>\n",
       "    </tr>\n",
       "  </tbody>\n",
       "</table>\n",
       "<p>281 rows × 4 columns</p>\n",
       "</div>"
      ],
      "text/plain": [
       "           race  gender  score  label_value\n",
       "15     Hispanic  Female    0.0            0\n",
       "24     Hispanic  Female    0.0            0\n",
       "81     Hispanic  Female    0.0            0\n",
       "149    Hispanic    Male    1.0            1\n",
       "163    Hispanic  Female    0.0            1\n",
       "...         ...     ...    ...          ...\n",
       "13709  Hispanic    Male    0.0            0\n",
       "13781  Hispanic    Male    0.0            0\n",
       "13824  Hispanic  Female    0.0            0\n",
       "13827  Hispanic    Male    0.0            1\n",
       "13832  Hispanic    Male    0.0            0\n",
       "\n",
       "[281 rows x 4 columns]"
      ]
     },
     "execution_count": 119,
     "metadata": {},
     "output_type": "execute_result"
    }
   ],
   "source": [
    "ae_df[ae_df['race']=='Hispanic']"
   ]
  },
  {
   "cell_type": "markdown",
   "metadata": {},
   "source": [
    "## Reference Group Selection"
   ]
  },
  {
   "cell_type": "markdown",
   "metadata": {},
   "source": [
    "Below we have chosen the reference group for our analysis but feel free to select another one."
   ]
  },
  {
   "cell_type": "code",
   "execution_count": 121,
   "metadata": {},
   "outputs": [
    {
     "name": "stdout",
     "output_type": "stream",
     "text": [
      "get_disparity_predefined_group()\n"
     ]
    },
    {
     "name": "stderr",
     "output_type": "stream",
     "text": [
      "/opt/conda/lib/python3.7/site-packages/aequitas/bias.py:368: FutureWarning: The pandas.np module is deprecated and will be removed from pandas in a future version. Import numpy directly instead\n",
      "  df = df.replace(pd.np.inf, fill_divbyzero)\n",
      "/opt/conda/lib/python3.7/site-packages/aequitas/fairness.py:32: FutureWarning: The pandas.np module is deprecated and will be removed from pandas in a future version. Import numpy directly instead\n",
      "  self.fair_eval = lambda tau: lambda x: pd.np.nan if pd.np.isnan(x) else \\\n",
      "/opt/conda/lib/python3.7/site-packages/aequitas/fairness.py:45: FutureWarning: The pandas.np module is deprecated and will be removed from pandas in a future version. Import numpy directly instead\n",
      "  self.high_level_pair_eval = lambda col1, col2: lambda x: pd.np.nan if (pd.np.isnan(x[col1]) and pd.np.isnan(x[col2])) \\\n"
     ]
    }
   ],
   "source": [
    "# test reference group with Caucasian Male\n",
    "bdf = b.get_disparity_predefined_groups(clean_xtab, \n",
    "                    original_df=ae_df, \n",
    "                    ref_groups_dict={'race':'Caucasian', 'gender':'Male'\n",
    "                                     }, \n",
    "                    alpha=0.05, \n",
    "                    check_significance=False)\n",
    "\n",
    "\n",
    "f = Fairness()\n",
    "fdf = f.get_group_value_fairness(bdf)"
   ]
  },
  {
   "cell_type": "markdown",
   "metadata": {},
   "source": [
    "## Race and Gender Bias Analysis for Patient Selection"
   ]
  },
  {
   "cell_type": "markdown",
   "metadata": {},
   "source": [
    "#### TPR\n",
    "**As shown in the graphs below.** \n",
    "- The model is not biased for gender. \n",
    "- The model is not baised for race too except for Asian, the TPR is too law   "
   ]
  },
  {
   "cell_type": "code",
   "execution_count": 124,
   "metadata": {},
   "outputs": [
    {
     "data": {
      "image/png": "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\n",
      "text/plain": [
       "<Figure size 720x360 with 1 Axes>"
      ]
     },
     "metadata": {
      "needs_background": "light"
     },
     "output_type": "display_data"
    }
   ],
   "source": [
    "tpr = aqp.plot_group_metric(clean_xtab, 'tpr', min_group_size=0.001)"
   ]
  },
  {
   "cell_type": "markdown",
   "metadata": {},
   "source": [
    "#### FPR\n",
    "**As shown in the graphs below.** \n",
    "- The model is not biased for gender and for race. \n"
   ]
  },
  {
   "cell_type": "code",
   "execution_count": 125,
   "metadata": {},
   "outputs": [
    {
     "data": {
      "image/png": "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\n",
      "text/plain": [
       "<Figure size 720x360 with 1 Axes>"
      ]
     },
     "metadata": {
      "needs_background": "light"
     },
     "output_type": "display_data"
    }
   ],
   "source": [
    "fpr = aqp.plot_group_metric(clean_xtab, 'fpr', min_group_size=0.001)"
   ]
  },
  {
   "cell_type": "markdown",
   "metadata": {},
   "source": [
    "#### TNR\n",
    "**As shown in the graphs below.** \n",
    "- The model is not biased for gender and for race. "
   ]
  },
  {
   "cell_type": "code",
   "execution_count": 126,
   "metadata": {},
   "outputs": [
    {
     "data": {
      "image/png": "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\n",
      "text/plain": [
       "<Figure size 720x360 with 1 Axes>"
      ]
     },
     "metadata": {
      "needs_background": "light"
     },
     "output_type": "display_data"
    }
   ],
   "source": [
    "tnr = aqp.plot_group_metric(clean_xtab, 'tnr', min_group_size=0.001)"
   ]
  },
  {
   "cell_type": "markdown",
   "metadata": {},
   "source": [
    "## Fairness Analysis Example - Relative to a Reference Group "
   ]
  },
  {
   "cell_type": "markdown",
   "metadata": {},
   "source": [
    "**Question 13**: Earlier we defined our reference group and then calculated disparity metrics relative to this grouping. Please provide a visualization of the fairness evaluation for this reference group and analyze whether there is disparity."
   ]
  },
  {
   "cell_type": "code",
   "execution_count": 127,
   "metadata": {
    "scrolled": true
   },
   "outputs": [
    {
     "data": {
      "image/png": "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\n",
      "text/plain": [
       "<Figure size 720x360 with 1 Axes>"
      ]
     },
     "metadata": {
      "needs_background": "light"
     },
     "output_type": "display_data"
    }
   ],
   "source": [
    "# Reference group fairness plot\n",
    "fpr_fairness = aqp.plot_fairness_group(fdf, group_metric='fpr', title=True)"
   ]
  },
  {
   "cell_type": "markdown",
   "metadata": {},
   "source": [
    "### Absolute Value Fairness Determination\n",
    "- Red = False/Not Fair\n",
    "- Green = True/Fair"
   ]
  },
  {
   "cell_type": "markdown",
   "metadata": {},
   "source": [
    "**As we can see above There is no disparity**"
   ]
  },
  {
   "cell_type": "code",
   "execution_count": 128,
   "metadata": {},
   "outputs": [
    {
     "data": {
      "image/png": "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\n",
      "text/plain": [
       "<Figure size 360x288 with 2 Axes>"
      ]
     },
     "metadata": {
      "needs_background": "light"
     },
     "output_type": "display_data"
    }
   ],
   "source": [
    " fpr_disparity = aqp.plot_disparity(bdf, group_metric='fpr_disparity', \n",
    "                                       attribute_name='race')"
   ]
  },
  {
   "cell_type": "markdown",
   "metadata": {},
   "source": [
    "- **Hispanic is about .84x likely to be falsely identified**\n",
    "- **Asian is about 1.0x likely to be falsely identified**\n",
    "- **others are about 1.0x likely to be falsely identified**\n",
    "- **African American is about 1.04x likely to be falsely identified**"
   ]
  },
  {
   "cell_type": "code",
   "execution_count": 104,
   "metadata": {},
   "outputs": [
    {
     "data": {
      "image/png": "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\n",
      "text/plain": [
       "<Figure size 360x288 with 2 Axes>"
      ]
     },
     "metadata": {
      "needs_background": "light"
     },
     "output_type": "display_data"
    }
   ],
   "source": [
    " fpr_disparity = aqp.plot_disparity(bdf, group_metric='fpr_disparity', \n",
    "                                       attribute_name='gender')"
   ]
  },
  {
   "cell_type": "markdown",
   "metadata": {},
   "source": [
    "- **Female is about 0.93x likely to be falsely identified**"
   ]
  }
 ],
 "metadata": {
  "kernelspec": {
   "display_name": "Python 3",
   "language": "python",
   "name": "python3"
  },
  "language_info": {
   "codemirror_mode": {
    "name": "ipython",
    "version": 3
   },
   "file_extension": ".py",
   "mimetype": "text/x-python",
   "name": "python",
   "nbconvert_exporter": "python",
   "pygments_lexer": "ipython3",
   "version": "3.7.6"
  }
 },
 "nbformat": 4,
 "nbformat_minor": 2
}
